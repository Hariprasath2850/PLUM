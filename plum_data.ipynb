{
 "cells": [
  {
   "cell_type": "markdown",
   "metadata": {},
   "source": [
    "## Lets import all libraries to make our task easier"
   ]
  },
  {
   "cell_type": "code",
   "execution_count": 39,
   "metadata": {},
   "outputs": [],
   "source": [
    "import pandas as pd\n",
    "import plotly.graph_objects as go\n",
    "import matplotlib.pyplot as plt\n",
    "from dash import dash_table \n",
    "import dash\n",
    "from dash import dcc, html\n",
    "from dash_table import DataTable\n",
    "import plotly.express as px\n",
    "from dash.dash_table.Format import Group\n",
    "from IPython.display import display\n",
    "from dash import dcc, html\n",
    "import warnings\n",
    "from dash_table import DataTable\n",
    "import seaborn as sns\n",
    "import numpy as np\n",
    "\n"
   ]
  },
  {
   "cell_type": "markdown",
   "metadata": {},
   "source": [
    "## Reading the data"
   ]
  },
  {
   "cell_type": "code",
   "execution_count": 40,
   "metadata": {},
   "outputs": [],
   "source": [
    "data = pd.read_csv(r\"C:\\Users\\harip\\OneDrive\\Documents\\plum\\DA Assignment - Sheet1.csv\")"
   ]
  },
  {
   "cell_type": "markdown",
   "metadata": {},
   "source": [
    "## checking Head and Tail"
   ]
  },
  {
   "cell_type": "code",
   "execution_count": 41,
   "metadata": {},
   "outputs": [
    {
     "data": {
      "text/html": [
       "<div>\n",
       "<style scoped>\n",
       "    .dataframe tbody tr th:only-of-type {\n",
       "        vertical-align: middle;\n",
       "    }\n",
       "\n",
       "    .dataframe tbody tr th {\n",
       "        vertical-align: top;\n",
       "    }\n",
       "\n",
       "    .dataframe thead th {\n",
       "        text-align: right;\n",
       "    }\n",
       "</style>\n",
       "<table border=\"1\" class=\"dataframe\">\n",
       "  <thead>\n",
       "    <tr style=\"text-align: right;\">\n",
       "      <th></th>\n",
       "      <th>Id</th>\n",
       "      <th>Requester id</th>\n",
       "      <th>Group</th>\n",
       "      <th>Status</th>\n",
       "      <th>Priority</th>\n",
       "      <th>Via</th>\n",
       "      <th>Created at</th>\n",
       "      <th>Updated at</th>\n",
       "      <th>Assigned at</th>\n",
       "      <th>Initially assigned at</th>\n",
       "      <th>...</th>\n",
       "      <th>Reopens</th>\n",
       "      <th>Replies</th>\n",
       "      <th>First reply time in minutes within business hours</th>\n",
       "      <th>First resolution time in minutes</th>\n",
       "      <th>First resolution time in minutes within business hours</th>\n",
       "      <th>Full resolution time in minutes</th>\n",
       "      <th>Full resolution time in minutes within business hours</th>\n",
       "      <th>Requester wait time in minutes</th>\n",
       "      <th>Requester wait time in minutes within business hours</th>\n",
       "      <th>Manual Tagging of Categories [list]</th>\n",
       "    </tr>\n",
       "  </thead>\n",
       "  <tbody>\n",
       "    <tr>\n",
       "      <th>0</th>\n",
       "      <td>297732</td>\n",
       "      <td>10300555531549</td>\n",
       "      <td>Support</td>\n",
       "      <td>Solved</td>\n",
       "      <td>Low</td>\n",
       "      <td>Mail</td>\n",
       "      <td>08-04-2023 20:52</td>\n",
       "      <td>14-06-2023 16:30</td>\n",
       "      <td>09-04-2023 10:28</td>\n",
       "      <td>09-04-2023 10:28</td>\n",
       "      <td>...</td>\n",
       "      <td>11</td>\n",
       "      <td>11</td>\n",
       "      <td>173.0</td>\n",
       "      <td>12975.0</td>\n",
       "      <td>6488.0</td>\n",
       "      <td>96218.0</td>\n",
       "      <td>47978.0</td>\n",
       "      <td>17853.0</td>\n",
       "      <td>8516.0</td>\n",
       "      <td>Is my treatment covered (IMTC)</td>\n",
       "    </tr>\n",
       "    <tr>\n",
       "      <th>1</th>\n",
       "      <td>311457</td>\n",
       "      <td>10420228868125</td>\n",
       "      <td>Reimbursement Claims</td>\n",
       "      <td>Closed</td>\n",
       "      <td>Low</td>\n",
       "      <td>Mail</td>\n",
       "      <td>24-04-2023 19:32</td>\n",
       "      <td>15-06-2023 16:37</td>\n",
       "      <td>25-04-2023 10:18</td>\n",
       "      <td>25-04-2023 10:18</td>\n",
       "      <td>...</td>\n",
       "      <td>10</td>\n",
       "      <td>10</td>\n",
       "      <td>1527.0</td>\n",
       "      <td>2984.0</td>\n",
       "      <td>1527.0</td>\n",
       "      <td>45893.0</td>\n",
       "      <td>22853.0</td>\n",
       "      <td>30113.0</td>\n",
       "      <td>15139.0</td>\n",
       "      <td>-</td>\n",
       "    </tr>\n",
       "    <tr>\n",
       "      <th>2</th>\n",
       "      <td>329907</td>\n",
       "      <td>10991633548957</td>\n",
       "      <td>Support</td>\n",
       "      <td>Solved</td>\n",
       "      <td>Low</td>\n",
       "      <td>Mail</td>\n",
       "      <td>16-05-2023 17:43</td>\n",
       "      <td>30-05-2023 14:56</td>\n",
       "      <td>16-05-2023 18:18</td>\n",
       "      <td>16-05-2023 18:18</td>\n",
       "      <td>...</td>\n",
       "      <td>10</td>\n",
       "      <td>11</td>\n",
       "      <td>61.0</td>\n",
       "      <td>1563.0</td>\n",
       "      <td>843.0</td>\n",
       "      <td>19993.0</td>\n",
       "      <td>9913.0</td>\n",
       "      <td>7115.0</td>\n",
       "      <td>3335.0</td>\n",
       "      <td>Claims</td>\n",
       "    </tr>\n",
       "    <tr>\n",
       "      <th>3</th>\n",
       "      <td>301553</td>\n",
       "      <td>10376247288477</td>\n",
       "      <td>Support</td>\n",
       "      <td>Solved</td>\n",
       "      <td>Low</td>\n",
       "      <td>Mail</td>\n",
       "      <td>13-04-2023 11:03</td>\n",
       "      <td>15-06-2023 20:55</td>\n",
       "      <td>13-04-2023 13:04</td>\n",
       "      <td>13-04-2023 13:04</td>\n",
       "      <td>...</td>\n",
       "      <td>9</td>\n",
       "      <td>9</td>\n",
       "      <td>381.0</td>\n",
       "      <td>2888.0</td>\n",
       "      <td>1448.0</td>\n",
       "      <td>91313.0</td>\n",
       "      <td>45953.0</td>\n",
       "      <td>18221.0</td>\n",
       "      <td>9401.0</td>\n",
       "      <td>Claims</td>\n",
       "    </tr>\n",
       "    <tr>\n",
       "      <th>4</th>\n",
       "      <td>310966</td>\n",
       "      <td>7302858920989</td>\n",
       "      <td>Support</td>\n",
       "      <td>Closed</td>\n",
       "      <td>Low</td>\n",
       "      <td>Mail</td>\n",
       "      <td>24-04-2023 13:21</td>\n",
       "      <td>08-06-2023 18:37</td>\n",
       "      <td>27-04-2023 14:48</td>\n",
       "      <td>24-04-2023 13:48</td>\n",
       "      <td>...</td>\n",
       "      <td>9</td>\n",
       "      <td>9</td>\n",
       "      <td>37.0</td>\n",
       "      <td>37.0</td>\n",
       "      <td>37.0</td>\n",
       "      <td>36304.0</td>\n",
       "      <td>17739.0</td>\n",
       "      <td>7427.0</td>\n",
       "      <td>4008.0</td>\n",
       "      <td>Claims</td>\n",
       "    </tr>\n",
       "  </tbody>\n",
       "</table>\n",
       "<p>5 rows × 23 columns</p>\n",
       "</div>"
      ],
      "text/plain": [
       "       Id    Requester id                 Group  Status Priority   Via  \\\n",
       "0  297732  10300555531549               Support  Solved      Low  Mail   \n",
       "1  311457  10420228868125  Reimbursement Claims  Closed      Low  Mail   \n",
       "2  329907  10991633548957               Support  Solved      Low  Mail   \n",
       "3  301553  10376247288477               Support  Solved      Low  Mail   \n",
       "4  310966   7302858920989               Support  Closed      Low  Mail   \n",
       "\n",
       "         Created at        Updated at       Assigned at Initially assigned at  \\\n",
       "0  08-04-2023 20:52  14-06-2023 16:30  09-04-2023 10:28      09-04-2023 10:28   \n",
       "1  24-04-2023 19:32  15-06-2023 16:37  25-04-2023 10:18      25-04-2023 10:18   \n",
       "2  16-05-2023 17:43  30-05-2023 14:56  16-05-2023 18:18      16-05-2023 18:18   \n",
       "3  13-04-2023 11:03  15-06-2023 20:55  13-04-2023 13:04      13-04-2023 13:04   \n",
       "4  24-04-2023 13:21  08-06-2023 18:37  27-04-2023 14:48      24-04-2023 13:48   \n",
       "\n",
       "   ... Reopens  Replies First reply time in minutes within business hours  \\\n",
       "0  ...      11       11                                             173.0   \n",
       "1  ...      10       10                                            1527.0   \n",
       "2  ...      10       11                                              61.0   \n",
       "3  ...       9        9                                             381.0   \n",
       "4  ...       9        9                                              37.0   \n",
       "\n",
       "   First resolution time in minutes  \\\n",
       "0                           12975.0   \n",
       "1                            2984.0   \n",
       "2                            1563.0   \n",
       "3                            2888.0   \n",
       "4                              37.0   \n",
       "\n",
       "   First resolution time in minutes within business hours  \\\n",
       "0                                             6488.0        \n",
       "1                                             1527.0        \n",
       "2                                              843.0        \n",
       "3                                             1448.0        \n",
       "4                                               37.0        \n",
       "\n",
       "   Full resolution time in minutes  \\\n",
       "0                          96218.0   \n",
       "1                          45893.0   \n",
       "2                          19993.0   \n",
       "3                          91313.0   \n",
       "4                          36304.0   \n",
       "\n",
       "   Full resolution time in minutes within business hours  \\\n",
       "0                                            47978.0       \n",
       "1                                            22853.0       \n",
       "2                                             9913.0       \n",
       "3                                            45953.0       \n",
       "4                                            17739.0       \n",
       "\n",
       "   Requester wait time in minutes  \\\n",
       "0                         17853.0   \n",
       "1                         30113.0   \n",
       "2                          7115.0   \n",
       "3                         18221.0   \n",
       "4                          7427.0   \n",
       "\n",
       "   Requester wait time in minutes within business hours  \\\n",
       "0                                             8516.0      \n",
       "1                                            15139.0      \n",
       "2                                             3335.0      \n",
       "3                                             9401.0      \n",
       "4                                             4008.0      \n",
       "\n",
       "   Manual Tagging of Categories [list]  \n",
       "0       Is my treatment covered (IMTC)  \n",
       "1                                    -  \n",
       "2                               Claims  \n",
       "3                               Claims  \n",
       "4                               Claims  \n",
       "\n",
       "[5 rows x 23 columns]"
      ]
     },
     "execution_count": 41,
     "metadata": {},
     "output_type": "execute_result"
    }
   ],
   "source": [
    "data.head()"
   ]
  },
  {
   "cell_type": "code",
   "execution_count": 42,
   "metadata": {},
   "outputs": [
    {
     "data": {
      "text/html": [
       "<div>\n",
       "<style scoped>\n",
       "    .dataframe tbody tr th:only-of-type {\n",
       "        vertical-align: middle;\n",
       "    }\n",
       "\n",
       "    .dataframe tbody tr th {\n",
       "        vertical-align: top;\n",
       "    }\n",
       "\n",
       "    .dataframe thead th {\n",
       "        text-align: right;\n",
       "    }\n",
       "</style>\n",
       "<table border=\"1\" class=\"dataframe\">\n",
       "  <thead>\n",
       "    <tr style=\"text-align: right;\">\n",
       "      <th></th>\n",
       "      <th>Id</th>\n",
       "      <th>Requester id</th>\n",
       "      <th>Group</th>\n",
       "      <th>Status</th>\n",
       "      <th>Priority</th>\n",
       "      <th>Via</th>\n",
       "      <th>Created at</th>\n",
       "      <th>Updated at</th>\n",
       "      <th>Assigned at</th>\n",
       "      <th>Initially assigned at</th>\n",
       "      <th>...</th>\n",
       "      <th>Reopens</th>\n",
       "      <th>Replies</th>\n",
       "      <th>First reply time in minutes within business hours</th>\n",
       "      <th>First resolution time in minutes</th>\n",
       "      <th>First resolution time in minutes within business hours</th>\n",
       "      <th>Full resolution time in minutes</th>\n",
       "      <th>Full resolution time in minutes within business hours</th>\n",
       "      <th>Requester wait time in minutes</th>\n",
       "      <th>Requester wait time in minutes within business hours</th>\n",
       "      <th>Manual Tagging of Categories [list]</th>\n",
       "    </tr>\n",
       "  </thead>\n",
       "  <tbody>\n",
       "    <tr>\n",
       "      <th>16471</th>\n",
       "      <td>344013</td>\n",
       "      <td>11283774362653</td>\n",
       "      <td>Support</td>\n",
       "      <td>Solved</td>\n",
       "      <td>Low</td>\n",
       "      <td>Mail</td>\n",
       "      <td>31-05-2023 22:37</td>\n",
       "      <td>01-06-2023 10:09</td>\n",
       "      <td>01-06-2023 09:33</td>\n",
       "      <td>01-06-2023 09:33</td>\n",
       "      <td>...</td>\n",
       "      <td>0</td>\n",
       "      <td>1</td>\n",
       "      <td>69.0</td>\n",
       "      <td>692.0</td>\n",
       "      <td>69.0</td>\n",
       "      <td>692.0</td>\n",
       "      <td>69.0</td>\n",
       "      <td>692.0</td>\n",
       "      <td>69.0</td>\n",
       "      <td>Others</td>\n",
       "    </tr>\n",
       "    <tr>\n",
       "      <th>16472</th>\n",
       "      <td>344014</td>\n",
       "      <td>7302298964893</td>\n",
       "      <td>Support</td>\n",
       "      <td>Solved</td>\n",
       "      <td>Low</td>\n",
       "      <td>Mail</td>\n",
       "      <td>31-05-2023 22:47</td>\n",
       "      <td>05-06-2023 09:49</td>\n",
       "      <td>01-06-2023 09:33</td>\n",
       "      <td>01-06-2023 09:33</td>\n",
       "      <td>...</td>\n",
       "      <td>0</td>\n",
       "      <td>3</td>\n",
       "      <td>90.0</td>\n",
       "      <td>6422.0</td>\n",
       "      <td>2929.0</td>\n",
       "      <td>6422.0</td>\n",
       "      <td>2929.0</td>\n",
       "      <td>6422.0</td>\n",
       "      <td>2930.0</td>\n",
       "      <td>Is my treatment covered (IMTC)</td>\n",
       "    </tr>\n",
       "    <tr>\n",
       "      <th>16473</th>\n",
       "      <td>344021</td>\n",
       "      <td>7303060862237</td>\n",
       "      <td>Support</td>\n",
       "      <td>Hold</td>\n",
       "      <td>Low</td>\n",
       "      <td>Mail</td>\n",
       "      <td>31-05-2023 23:16</td>\n",
       "      <td>01-06-2023 10:09</td>\n",
       "      <td>01-06-2023 09:34</td>\n",
       "      <td>01-06-2023 09:34</td>\n",
       "      <td>...</td>\n",
       "      <td>0</td>\n",
       "      <td>1</td>\n",
       "      <td>69.0</td>\n",
       "      <td>NaN</td>\n",
       "      <td>NaN</td>\n",
       "      <td>NaN</td>\n",
       "      <td>NaN</td>\n",
       "      <td>653.0</td>\n",
       "      <td>69.0</td>\n",
       "      <td>-</td>\n",
       "    </tr>\n",
       "    <tr>\n",
       "      <th>16474</th>\n",
       "      <td>344025</td>\n",
       "      <td>10098421736733</td>\n",
       "      <td>Reimbursement Claims</td>\n",
       "      <td>Solved</td>\n",
       "      <td>Low</td>\n",
       "      <td>Mail</td>\n",
       "      <td>31-05-2023 23:35</td>\n",
       "      <td>09-06-2023 16:43</td>\n",
       "      <td>01-06-2023 10:09</td>\n",
       "      <td>01-06-2023 10:09</td>\n",
       "      <td>...</td>\n",
       "      <td>0</td>\n",
       "      <td>2</td>\n",
       "      <td>280.0</td>\n",
       "      <td>12548.0</td>\n",
       "      <td>6223.0</td>\n",
       "      <td>12548.0</td>\n",
       "      <td>6223.0</td>\n",
       "      <td>12547.0</td>\n",
       "      <td>6223.0</td>\n",
       "      <td>-</td>\n",
       "    </tr>\n",
       "    <tr>\n",
       "      <th>16475</th>\n",
       "      <td>344028</td>\n",
       "      <td>11285001510813</td>\n",
       "      <td>Reimbursement Claims</td>\n",
       "      <td>Solved</td>\n",
       "      <td>Low</td>\n",
       "      <td>Mail</td>\n",
       "      <td>31-05-2023 23:43</td>\n",
       "      <td>01-06-2023 14:40</td>\n",
       "      <td>01-06-2023 10:09</td>\n",
       "      <td>01-06-2023 10:09</td>\n",
       "      <td>...</td>\n",
       "      <td>0</td>\n",
       "      <td>1</td>\n",
       "      <td>340.0</td>\n",
       "      <td>897.0</td>\n",
       "      <td>340.0</td>\n",
       "      <td>897.0</td>\n",
       "      <td>340.0</td>\n",
       "      <td>897.0</td>\n",
       "      <td>341.0</td>\n",
       "      <td>-</td>\n",
       "    </tr>\n",
       "  </tbody>\n",
       "</table>\n",
       "<p>5 rows × 23 columns</p>\n",
       "</div>"
      ],
      "text/plain": [
       "           Id    Requester id                 Group  Status Priority   Via  \\\n",
       "16471  344013  11283774362653               Support  Solved      Low  Mail   \n",
       "16472  344014   7302298964893               Support  Solved      Low  Mail   \n",
       "16473  344021   7303060862237               Support    Hold      Low  Mail   \n",
       "16474  344025  10098421736733  Reimbursement Claims  Solved      Low  Mail   \n",
       "16475  344028  11285001510813  Reimbursement Claims  Solved      Low  Mail   \n",
       "\n",
       "             Created at        Updated at       Assigned at  \\\n",
       "16471  31-05-2023 22:37  01-06-2023 10:09  01-06-2023 09:33   \n",
       "16472  31-05-2023 22:47  05-06-2023 09:49  01-06-2023 09:33   \n",
       "16473  31-05-2023 23:16  01-06-2023 10:09  01-06-2023 09:34   \n",
       "16474  31-05-2023 23:35  09-06-2023 16:43  01-06-2023 10:09   \n",
       "16475  31-05-2023 23:43  01-06-2023 14:40  01-06-2023 10:09   \n",
       "\n",
       "      Initially assigned at  ... Reopens  Replies  \\\n",
       "16471      01-06-2023 09:33  ...       0        1   \n",
       "16472      01-06-2023 09:33  ...       0        3   \n",
       "16473      01-06-2023 09:34  ...       0        1   \n",
       "16474      01-06-2023 10:09  ...       0        2   \n",
       "16475      01-06-2023 10:09  ...       0        1   \n",
       "\n",
       "      First reply time in minutes within business hours  \\\n",
       "16471                                              69.0   \n",
       "16472                                              90.0   \n",
       "16473                                              69.0   \n",
       "16474                                             280.0   \n",
       "16475                                             340.0   \n",
       "\n",
       "       First resolution time in minutes  \\\n",
       "16471                             692.0   \n",
       "16472                            6422.0   \n",
       "16473                               NaN   \n",
       "16474                           12548.0   \n",
       "16475                             897.0   \n",
       "\n",
       "       First resolution time in minutes within business hours  \\\n",
       "16471                                               69.0        \n",
       "16472                                             2929.0        \n",
       "16473                                                NaN        \n",
       "16474                                             6223.0        \n",
       "16475                                              340.0        \n",
       "\n",
       "       Full resolution time in minutes  \\\n",
       "16471                            692.0   \n",
       "16472                           6422.0   \n",
       "16473                              NaN   \n",
       "16474                          12548.0   \n",
       "16475                            897.0   \n",
       "\n",
       "       Full resolution time in minutes within business hours  \\\n",
       "16471                                               69.0       \n",
       "16472                                             2929.0       \n",
       "16473                                                NaN       \n",
       "16474                                             6223.0       \n",
       "16475                                              340.0       \n",
       "\n",
       "       Requester wait time in minutes  \\\n",
       "16471                           692.0   \n",
       "16472                          6422.0   \n",
       "16473                           653.0   \n",
       "16474                         12547.0   \n",
       "16475                           897.0   \n",
       "\n",
       "       Requester wait time in minutes within business hours  \\\n",
       "16471                                               69.0      \n",
       "16472                                             2930.0      \n",
       "16473                                               69.0      \n",
       "16474                                             6223.0      \n",
       "16475                                              341.0      \n",
       "\n",
       "       Manual Tagging of Categories [list]  \n",
       "16471                               Others  \n",
       "16472       Is my treatment covered (IMTC)  \n",
       "16473                                    -  \n",
       "16474                                    -  \n",
       "16475                                    -  \n",
       "\n",
       "[5 rows x 23 columns]"
      ]
     },
     "execution_count": 42,
     "metadata": {},
     "output_type": "execute_result"
    }
   ],
   "source": [
    "data.tail()"
   ]
  },
  {
   "cell_type": "code",
   "execution_count": 43,
   "metadata": {},
   "outputs": [
    {
     "data": {
      "text/plain": [
       "(16476, 23)"
      ]
     },
     "execution_count": 43,
     "metadata": {},
     "output_type": "execute_result"
    }
   ],
   "source": [
    "data.shape"
   ]
  },
  {
   "cell_type": "markdown",
   "metadata": {},
   "source": [
    "## Checking describe "
   ]
  },
  {
   "cell_type": "code",
   "execution_count": 44,
   "metadata": {},
   "outputs": [
    {
     "data": {
      "text/html": [
       "<div>\n",
       "<style scoped>\n",
       "    .dataframe tbody tr th:only-of-type {\n",
       "        vertical-align: middle;\n",
       "    }\n",
       "\n",
       "    .dataframe tbody tr th {\n",
       "        vertical-align: top;\n",
       "    }\n",
       "\n",
       "    .dataframe thead th {\n",
       "        text-align: right;\n",
       "    }\n",
       "</style>\n",
       "<table border=\"1\" class=\"dataframe\">\n",
       "  <thead>\n",
       "    <tr style=\"text-align: right;\">\n",
       "      <th></th>\n",
       "      <th>Id</th>\n",
       "      <th>Requester id</th>\n",
       "      <th>Resolution time</th>\n",
       "      <th>Reopens</th>\n",
       "      <th>Replies</th>\n",
       "      <th>First reply time in minutes within business hours</th>\n",
       "      <th>First resolution time in minutes</th>\n",
       "      <th>First resolution time in minutes within business hours</th>\n",
       "      <th>Full resolution time in minutes</th>\n",
       "      <th>Full resolution time in minutes within business hours</th>\n",
       "      <th>Requester wait time in minutes</th>\n",
       "      <th>Requester wait time in minutes within business hours</th>\n",
       "    </tr>\n",
       "  </thead>\n",
       "  <tbody>\n",
       "    <tr>\n",
       "      <th>count</th>\n",
       "      <td>16476.000000</td>\n",
       "      <td>1.647600e+04</td>\n",
       "      <td>14409.000000</td>\n",
       "      <td>16476.000000</td>\n",
       "      <td>16476.000000</td>\n",
       "      <td>12760.000000</td>\n",
       "      <td>14834.000000</td>\n",
       "      <td>14834.000000</td>\n",
       "      <td>14409.000000</td>\n",
       "      <td>14409.000000</td>\n",
       "      <td>16327.000000</td>\n",
       "      <td>16327.000000</td>\n",
       "    </tr>\n",
       "    <tr>\n",
       "      <th>mean</th>\n",
       "      <td>316876.239743</td>\n",
       "      <td>8.422350e+12</td>\n",
       "      <td>205.246235</td>\n",
       "      <td>0.242899</td>\n",
       "      <td>2.152525</td>\n",
       "      <td>1852.113950</td>\n",
       "      <td>10177.772752</td>\n",
       "      <td>5131.839693</td>\n",
       "      <td>12314.136304</td>\n",
       "      <td>6196.644320</td>\n",
       "      <td>10443.141238</td>\n",
       "      <td>5259.864213</td>\n",
       "    </tr>\n",
       "    <tr>\n",
       "      <th>std</th>\n",
       "      <td>15369.829459</td>\n",
       "      <td>1.545776e+12</td>\n",
       "      <td>283.541651</td>\n",
       "      <td>0.705320</td>\n",
       "      <td>2.681740</td>\n",
       "      <td>3916.902674</td>\n",
       "      <td>15243.191721</td>\n",
       "      <td>7625.355098</td>\n",
       "      <td>17012.495327</td>\n",
       "      <td>8504.443833</td>\n",
       "      <td>15858.506931</td>\n",
       "      <td>7917.994694</td>\n",
       "    </tr>\n",
       "    <tr>\n",
       "      <th>min</th>\n",
       "      <td>291015.000000</td>\n",
       "      <td>5.879787e+12</td>\n",
       "      <td>0.000000</td>\n",
       "      <td>0.000000</td>\n",
       "      <td>0.000000</td>\n",
       "      <td>0.000000</td>\n",
       "      <td>0.000000</td>\n",
       "      <td>0.000000</td>\n",
       "      <td>0.000000</td>\n",
       "      <td>0.000000</td>\n",
       "      <td>0.000000</td>\n",
       "      <td>0.000000</td>\n",
       "    </tr>\n",
       "    <tr>\n",
       "      <th>25%</th>\n",
       "      <td>303624.750000</td>\n",
       "      <td>7.273930e+12</td>\n",
       "      <td>22.000000</td>\n",
       "      <td>0.000000</td>\n",
       "      <td>1.000000</td>\n",
       "      <td>122.000000</td>\n",
       "      <td>916.250000</td>\n",
       "      <td>437.000000</td>\n",
       "      <td>1340.000000</td>\n",
       "      <td>652.000000</td>\n",
       "      <td>936.000000</td>\n",
       "      <td>491.000000</td>\n",
       "    </tr>\n",
       "    <tr>\n",
       "      <th>50%</th>\n",
       "      <td>316564.500000</td>\n",
       "      <td>7.306863e+12</td>\n",
       "      <td>96.000000</td>\n",
       "      <td>0.000000</td>\n",
       "      <td>1.000000</td>\n",
       "      <td>478.000000</td>\n",
       "      <td>4299.000000</td>\n",
       "      <td>2154.000000</td>\n",
       "      <td>5751.000000</td>\n",
       "      <td>2880.000000</td>\n",
       "      <td>4238.000000</td>\n",
       "      <td>2126.000000</td>\n",
       "    </tr>\n",
       "    <tr>\n",
       "      <th>75%</th>\n",
       "      <td>330251.250000</td>\n",
       "      <td>1.011376e+13</td>\n",
       "      <td>259.000000</td>\n",
       "      <td>0.000000</td>\n",
       "      <td>3.000000</td>\n",
       "      <td>1935.250000</td>\n",
       "      <td>12085.750000</td>\n",
       "      <td>6178.750000</td>\n",
       "      <td>15559.000000</td>\n",
       "      <td>7847.000000</td>\n",
       "      <td>12176.000000</td>\n",
       "      <td>6212.000000</td>\n",
       "    </tr>\n",
       "    <tr>\n",
       "      <th>max</th>\n",
       "      <td>344028.000000</td>\n",
       "      <td>1.129824e+13</td>\n",
       "      <td>1805.000000</td>\n",
       "      <td>11.000000</td>\n",
       "      <td>36.000000</td>\n",
       "      <td>52770.000000</td>\n",
       "      <td>108322.000000</td>\n",
       "      <td>54322.000000</td>\n",
       "      <td>108322.000000</td>\n",
       "      <td>54322.000000</td>\n",
       "      <td>108942.000000</td>\n",
       "      <td>54355.000000</td>\n",
       "    </tr>\n",
       "  </tbody>\n",
       "</table>\n",
       "</div>"
      ],
      "text/plain": [
       "                  Id  Requester id  Resolution time       Reopens  \\\n",
       "count   16476.000000  1.647600e+04     14409.000000  16476.000000   \n",
       "mean   316876.239743  8.422350e+12       205.246235      0.242899   \n",
       "std     15369.829459  1.545776e+12       283.541651      0.705320   \n",
       "min    291015.000000  5.879787e+12         0.000000      0.000000   \n",
       "25%    303624.750000  7.273930e+12        22.000000      0.000000   \n",
       "50%    316564.500000  7.306863e+12        96.000000      0.000000   \n",
       "75%    330251.250000  1.011376e+13       259.000000      0.000000   \n",
       "max    344028.000000  1.129824e+13      1805.000000     11.000000   \n",
       "\n",
       "            Replies  First reply time in minutes within business hours  \\\n",
       "count  16476.000000                                       12760.000000   \n",
       "mean       2.152525                                        1852.113950   \n",
       "std        2.681740                                        3916.902674   \n",
       "min        0.000000                                           0.000000   \n",
       "25%        1.000000                                         122.000000   \n",
       "50%        1.000000                                         478.000000   \n",
       "75%        3.000000                                        1935.250000   \n",
       "max       36.000000                                       52770.000000   \n",
       "\n",
       "       First resolution time in minutes  \\\n",
       "count                      14834.000000   \n",
       "mean                       10177.772752   \n",
       "std                        15243.191721   \n",
       "min                            0.000000   \n",
       "25%                          916.250000   \n",
       "50%                         4299.000000   \n",
       "75%                        12085.750000   \n",
       "max                       108322.000000   \n",
       "\n",
       "       First resolution time in minutes within business hours  \\\n",
       "count                                       14834.000000        \n",
       "mean                                         5131.839693        \n",
       "std                                          7625.355098        \n",
       "min                                             0.000000        \n",
       "25%                                           437.000000        \n",
       "50%                                          2154.000000        \n",
       "75%                                          6178.750000        \n",
       "max                                         54322.000000        \n",
       "\n",
       "       Full resolution time in minutes  \\\n",
       "count                     14409.000000   \n",
       "mean                      12314.136304   \n",
       "std                       17012.495327   \n",
       "min                           0.000000   \n",
       "25%                        1340.000000   \n",
       "50%                        5751.000000   \n",
       "75%                       15559.000000   \n",
       "max                      108322.000000   \n",
       "\n",
       "       Full resolution time in minutes within business hours  \\\n",
       "count                                       14409.000000       \n",
       "mean                                         6196.644320       \n",
       "std                                          8504.443833       \n",
       "min                                             0.000000       \n",
       "25%                                           652.000000       \n",
       "50%                                          2880.000000       \n",
       "75%                                          7847.000000       \n",
       "max                                         54322.000000       \n",
       "\n",
       "       Requester wait time in minutes  \\\n",
       "count                    16327.000000   \n",
       "mean                     10443.141238   \n",
       "std                      15858.506931   \n",
       "min                          0.000000   \n",
       "25%                        936.000000   \n",
       "50%                       4238.000000   \n",
       "75%                      12176.000000   \n",
       "max                     108942.000000   \n",
       "\n",
       "       Requester wait time in minutes within business hours  \n",
       "count                                       16327.000000     \n",
       "mean                                         5259.864213     \n",
       "std                                          7917.994694     \n",
       "min                                             0.000000     \n",
       "25%                                           491.000000     \n",
       "50%                                          2126.000000     \n",
       "75%                                          6212.000000     \n",
       "max                                         54355.000000     "
      ]
     },
     "execution_count": 44,
     "metadata": {},
     "output_type": "execute_result"
    }
   ],
   "source": [
    "data.describe()"
   ]
  },
  {
   "cell_type": "markdown",
   "metadata": {},
   "source": [
    "## checking info"
   ]
  },
  {
   "cell_type": "code",
   "execution_count": 45,
   "metadata": {},
   "outputs": [
    {
     "name": "stdout",
     "output_type": "stream",
     "text": [
      "<class 'pandas.core.frame.DataFrame'>\n",
      "RangeIndex: 16476 entries, 0 to 16475\n",
      "Data columns (total 23 columns):\n",
      " #   Column                                                  Non-Null Count  Dtype  \n",
      "---  ------                                                  --------------  -----  \n",
      " 0   Id                                                      16476 non-null  int64  \n",
      " 1   Requester id                                            16476 non-null  int64  \n",
      " 2   Group                                                   16476 non-null  object \n",
      " 3   Status                                                  16476 non-null  object \n",
      " 4   Priority                                                16476 non-null  object \n",
      " 5   Via                                                     16476 non-null  object \n",
      " 6   Created at                                              16476 non-null  object \n",
      " 7   Updated at                                              16476 non-null  object \n",
      " 8   Assigned at                                             16347 non-null  object \n",
      " 9   Initially assigned at                                   16347 non-null  object \n",
      " 10  Solved at                                               14409 non-null  object \n",
      " 11  Resolution time                                         14409 non-null  float64\n",
      " 12  Satisfaction Score                                      5453 non-null   object \n",
      " 13  Reopens                                                 16476 non-null  int64  \n",
      " 14  Replies                                                 16476 non-null  int64  \n",
      " 15  First reply time in minutes within business hours       12760 non-null  float64\n",
      " 16  First resolution time in minutes                        14834 non-null  float64\n",
      " 17  First resolution time in minutes within business hours  14834 non-null  float64\n",
      " 18  Full resolution time in minutes                         14409 non-null  float64\n",
      " 19  Full resolution time in minutes within business hours   14409 non-null  float64\n",
      " 20  Requester wait time in minutes                          16327 non-null  float64\n",
      " 21  Requester wait time in minutes within business hours    16327 non-null  float64\n",
      " 22  Manual Tagging of Categories [list]                     16476 non-null  object \n",
      "dtypes: float64(8), int64(4), object(11)\n",
      "memory usage: 2.9+ MB\n"
     ]
    }
   ],
   "source": [
    "data.info()"
   ]
  },
  {
   "cell_type": "markdown",
   "metadata": {},
   "source": [
    "## checking all Dtypes"
   ]
  },
  {
   "cell_type": "code",
   "execution_count": 46,
   "metadata": {},
   "outputs": [
    {
     "data": {
      "text/plain": [
       "Id                                                          int64\n",
       "Requester id                                                int64\n",
       "Group                                                      object\n",
       "Status                                                     object\n",
       "Priority                                                   object\n",
       "Via                                                        object\n",
       "Created at                                                 object\n",
       "Updated at                                                 object\n",
       "Assigned at                                                object\n",
       "Initially assigned at                                      object\n",
       "Solved at                                                  object\n",
       "Resolution time                                           float64\n",
       "Satisfaction Score                                         object\n",
       "Reopens                                                     int64\n",
       "Replies                                                     int64\n",
       "First reply time in minutes within business hours         float64\n",
       "First resolution time in minutes                          float64\n",
       "First resolution time in minutes within business hours    float64\n",
       "Full resolution time in minutes                           float64\n",
       "Full resolution time in minutes within business hours     float64\n",
       "Requester wait time in minutes                            float64\n",
       "Requester wait time in minutes within business hours      float64\n",
       "Manual Tagging of Categories [list]                        object\n",
       "dtype: object"
      ]
     },
     "execution_count": 46,
     "metadata": {},
     "output_type": "execute_result"
    }
   ],
   "source": [
    "data.dtypes"
   ]
  },
  {
   "cell_type": "markdown",
   "metadata": {},
   "source": [
    "## checking all null values"
   ]
  },
  {
   "cell_type": "code",
   "execution_count": 47,
   "metadata": {},
   "outputs": [
    {
     "data": {
      "text/plain": [
       "Id                                                            0\n",
       "Requester id                                                  0\n",
       "Group                                                         0\n",
       "Status                                                        0\n",
       "Priority                                                      0\n",
       "Via                                                           0\n",
       "Created at                                                    0\n",
       "Updated at                                                    0\n",
       "Assigned at                                                 129\n",
       "Initially assigned at                                       129\n",
       "Solved at                                                  2067\n",
       "Resolution time                                            2067\n",
       "Satisfaction Score                                        11023\n",
       "Reopens                                                       0\n",
       "Replies                                                       0\n",
       "First reply time in minutes within business hours          3716\n",
       "First resolution time in minutes                           1642\n",
       "First resolution time in minutes within business hours     1642\n",
       "Full resolution time in minutes                            2067\n",
       "Full resolution time in minutes within business hours      2067\n",
       "Requester wait time in minutes                              149\n",
       "Requester wait time in minutes within business hours        149\n",
       "Manual Tagging of Categories [list]                           0\n",
       "dtype: int64"
      ]
     },
     "execution_count": 47,
     "metadata": {},
     "output_type": "execute_result"
    }
   ],
   "source": [
    "data.isnull().sum()"
   ]
  },
  {
   "cell_type": "code",
   "execution_count": 48,
   "metadata": {},
   "outputs": [
    {
     "data": {
      "text/plain": [
       "array(['Support', 'Reimbursement Claims', 'Onboardings', 'Endorsements'],\n",
       "      dtype=object)"
      ]
     },
     "execution_count": 48,
     "metadata": {},
     "output_type": "execute_result"
    }
   ],
   "source": [
    "data['Group'].unique()"
   ]
  },
  {
   "cell_type": "markdown",
   "metadata": {},
   "source": [
    "# Let's convert hours into days for clear understanding\n"
   ]
  },
  {
   "cell_type": "code",
   "execution_count": 49,
   "metadata": {},
   "outputs": [],
   "source": [
    "data['First_reply_time_in_minutes_within_business_days'] = data['First reply time in minutes within business hours']/(24*60)\n",
    "data['First_resolution_in_days'] = data['First resolution time in minutes']/(24*60)\n",
    "data['First_resolution_time_in_minutes_within_business_days'] = data['First resolution time in minutes within business hours']/(24*60)\n",
    "data['Full_resolution_time_in_days'] = data['Full resolution time in minutes']/(24*60)\n",
    "data['Full_resolution_time_in_minutes_within_business_days'] = data['Full resolution time in minutes within business hours']/(24*60)\n",
    "data['Requester_wait_time_in_days'] = data['Requester wait time in minutes']/(24*60)\n",
    "data['Requester_wait_time_in_minutes_within_business_days'] = data['Requester wait time in minutes within business hours']/(24*60)"
   ]
  },
  {
   "cell_type": "markdown",
   "metadata": {},
   "source": [
    "## Droping the columns which are stated above"
   ]
  },
  {
   "cell_type": "code",
   "execution_count": 50,
   "metadata": {},
   "outputs": [],
   "source": [
    "data.drop(['First reply time in minutes within business hours','First resolution time in minutes','First resolution time in minutes within business hours','Full resolution time in minutes','Full resolution time in minutes within business hours',\n",
    "       'Requester wait time in minutes',\n",
    "       'Requester wait time in minutes within business hours'], axis = 1, inplace= True)"
   ]
  },
  {
   "cell_type": "code",
   "execution_count": 51,
   "metadata": {},
   "outputs": [
    {
     "data": {
      "text/plain": [
       "(16476, 23)"
      ]
     },
     "execution_count": 51,
     "metadata": {},
     "output_type": "execute_result"
    }
   ],
   "source": [
    "data.shape"
   ]
  },
  {
   "cell_type": "markdown",
   "metadata": {},
   "source": [
    "## Checking Dtypes"
   ]
  },
  {
   "cell_type": "code",
   "execution_count": 52,
   "metadata": {},
   "outputs": [
    {
     "data": {
      "text/plain": [
       "Id                                                         int64\n",
       "Requester id                                               int64\n",
       "Group                                                     object\n",
       "Status                                                    object\n",
       "Priority                                                  object\n",
       "Via                                                       object\n",
       "Created at                                                object\n",
       "Updated at                                                object\n",
       "Assigned at                                               object\n",
       "Initially assigned at                                     object\n",
       "Solved at                                                 object\n",
       "Resolution time                                          float64\n",
       "Satisfaction Score                                        object\n",
       "Reopens                                                    int64\n",
       "Replies                                                    int64\n",
       "Manual Tagging of Categories [list]                       object\n",
       "First_reply_time_in_minutes_within_business_days         float64\n",
       "First_resolution_in_days                                 float64\n",
       "First_resolution_time_in_minutes_within_business_days    float64\n",
       "Full_resolution_time_in_days                             float64\n",
       "Full_resolution_time_in_minutes_within_business_days     float64\n",
       "Requester_wait_time_in_days                              float64\n",
       "Requester_wait_time_in_minutes_within_business_days      float64\n",
       "dtype: object"
      ]
     },
     "execution_count": 52,
     "metadata": {},
     "output_type": "execute_result"
    }
   ],
   "source": [
    "data.dtypes"
   ]
  },
  {
   "cell_type": "markdown",
   "metadata": {},
   "source": [
    "## Cheking Null values"
   ]
  },
  {
   "cell_type": "code",
   "execution_count": 53,
   "metadata": {},
   "outputs": [
    {
     "data": {
      "text/plain": [
       "Id                                                           0\n",
       "Requester id                                                 0\n",
       "Group                                                        0\n",
       "Status                                                       0\n",
       "Priority                                                     0\n",
       "Via                                                          0\n",
       "Created at                                                   0\n",
       "Updated at                                                   0\n",
       "Assigned at                                                129\n",
       "Initially assigned at                                      129\n",
       "Solved at                                                 2067\n",
       "Resolution time                                           2067\n",
       "Satisfaction Score                                       11023\n",
       "Reopens                                                      0\n",
       "Replies                                                      0\n",
       "Manual Tagging of Categories [list]                          0\n",
       "First_reply_time_in_minutes_within_business_days          3716\n",
       "First_resolution_in_days                                  1642\n",
       "First_resolution_time_in_minutes_within_business_days     1642\n",
       "Full_resolution_time_in_days                              2067\n",
       "Full_resolution_time_in_minutes_within_business_days      2067\n",
       "Requester_wait_time_in_days                                149\n",
       "Requester_wait_time_in_minutes_within_business_days        149\n",
       "dtype: int64"
      ]
     },
     "execution_count": 53,
     "metadata": {},
     "output_type": "execute_result"
    }
   ],
   "source": [
    "data.isnull().sum()"
   ]
  },
  {
   "cell_type": "code",
   "execution_count": 54,
   "metadata": {},
   "outputs": [],
   "source": [
    "data = data.replace('-', np.nan)"
   ]
  },
  {
   "cell_type": "code",
   "execution_count": 55,
   "metadata": {},
   "outputs": [
    {
     "data": {
      "text/html": [
       "<div>\n",
       "<style scoped>\n",
       "    .dataframe tbody tr th:only-of-type {\n",
       "        vertical-align: middle;\n",
       "    }\n",
       "\n",
       "    .dataframe tbody tr th {\n",
       "        vertical-align: top;\n",
       "    }\n",
       "\n",
       "    .dataframe thead th {\n",
       "        text-align: right;\n",
       "    }\n",
       "</style>\n",
       "<table border=\"1\" class=\"dataframe\">\n",
       "  <thead>\n",
       "    <tr style=\"text-align: right;\">\n",
       "      <th></th>\n",
       "      <th>Id</th>\n",
       "      <th>Requester id</th>\n",
       "      <th>Group</th>\n",
       "      <th>Status</th>\n",
       "      <th>Priority</th>\n",
       "      <th>Via</th>\n",
       "      <th>Created at</th>\n",
       "      <th>Updated at</th>\n",
       "      <th>Assigned at</th>\n",
       "      <th>Initially assigned at</th>\n",
       "      <th>...</th>\n",
       "      <th>Reopens</th>\n",
       "      <th>Replies</th>\n",
       "      <th>Manual Tagging of Categories [list]</th>\n",
       "      <th>First_reply_time_in_minutes_within_business_days</th>\n",
       "      <th>First_resolution_in_days</th>\n",
       "      <th>First_resolution_time_in_minutes_within_business_days</th>\n",
       "      <th>Full_resolution_time_in_days</th>\n",
       "      <th>Full_resolution_time_in_minutes_within_business_days</th>\n",
       "      <th>Requester_wait_time_in_days</th>\n",
       "      <th>Requester_wait_time_in_minutes_within_business_days</th>\n",
       "    </tr>\n",
       "  </thead>\n",
       "  <tbody>\n",
       "    <tr>\n",
       "      <th>0</th>\n",
       "      <td>297732</td>\n",
       "      <td>10300555531549</td>\n",
       "      <td>Support</td>\n",
       "      <td>Solved</td>\n",
       "      <td>Low</td>\n",
       "      <td>Mail</td>\n",
       "      <td>08-04-2023 20:52</td>\n",
       "      <td>14-06-2023 16:30</td>\n",
       "      <td>09-04-2023 10:28</td>\n",
       "      <td>09-04-2023 10:28</td>\n",
       "      <td>...</td>\n",
       "      <td>11</td>\n",
       "      <td>11</td>\n",
       "      <td>Is my treatment covered (IMTC)</td>\n",
       "      <td>0.120139</td>\n",
       "      <td>9.010417</td>\n",
       "      <td>4.505556</td>\n",
       "      <td>66.818056</td>\n",
       "      <td>33.318056</td>\n",
       "      <td>12.397917</td>\n",
       "      <td>5.913889</td>\n",
       "    </tr>\n",
       "    <tr>\n",
       "      <th>1</th>\n",
       "      <td>311457</td>\n",
       "      <td>10420228868125</td>\n",
       "      <td>Reimbursement Claims</td>\n",
       "      <td>Closed</td>\n",
       "      <td>Low</td>\n",
       "      <td>Mail</td>\n",
       "      <td>24-04-2023 19:32</td>\n",
       "      <td>15-06-2023 16:37</td>\n",
       "      <td>25-04-2023 10:18</td>\n",
       "      <td>25-04-2023 10:18</td>\n",
       "      <td>...</td>\n",
       "      <td>10</td>\n",
       "      <td>10</td>\n",
       "      <td>NaN</td>\n",
       "      <td>1.060417</td>\n",
       "      <td>2.072222</td>\n",
       "      <td>1.060417</td>\n",
       "      <td>31.870139</td>\n",
       "      <td>15.870139</td>\n",
       "      <td>20.911806</td>\n",
       "      <td>10.513194</td>\n",
       "    </tr>\n",
       "  </tbody>\n",
       "</table>\n",
       "<p>2 rows × 23 columns</p>\n",
       "</div>"
      ],
      "text/plain": [
       "       Id    Requester id                 Group  Status Priority   Via  \\\n",
       "0  297732  10300555531549               Support  Solved      Low  Mail   \n",
       "1  311457  10420228868125  Reimbursement Claims  Closed      Low  Mail   \n",
       "\n",
       "         Created at        Updated at       Assigned at Initially assigned at  \\\n",
       "0  08-04-2023 20:52  14-06-2023 16:30  09-04-2023 10:28      09-04-2023 10:28   \n",
       "1  24-04-2023 19:32  15-06-2023 16:37  25-04-2023 10:18      25-04-2023 10:18   \n",
       "\n",
       "   ... Reopens  Replies Manual Tagging of Categories [list]  \\\n",
       "0  ...      11       11      Is my treatment covered (IMTC)   \n",
       "1  ...      10       10                                 NaN   \n",
       "\n",
       "   First_reply_time_in_minutes_within_business_days  First_resolution_in_days  \\\n",
       "0                                          0.120139                  9.010417   \n",
       "1                                          1.060417                  2.072222   \n",
       "\n",
       "  First_resolution_time_in_minutes_within_business_days  \\\n",
       "0                                           4.505556      \n",
       "1                                           1.060417      \n",
       "\n",
       "   Full_resolution_time_in_days  \\\n",
       "0                     66.818056   \n",
       "1                     31.870139   \n",
       "\n",
       "   Full_resolution_time_in_minutes_within_business_days  \\\n",
       "0                                          33.318056      \n",
       "1                                          15.870139      \n",
       "\n",
       "   Requester_wait_time_in_days  \\\n",
       "0                    12.397917   \n",
       "1                    20.911806   \n",
       "\n",
       "   Requester_wait_time_in_minutes_within_business_days  \n",
       "0                                           5.913889    \n",
       "1                                          10.513194    \n",
       "\n",
       "[2 rows x 23 columns]"
      ]
     },
     "execution_count": 55,
     "metadata": {},
     "output_type": "execute_result"
    }
   ],
   "source": [
    "data.head(2)"
   ]
  },
  {
   "cell_type": "markdown",
   "metadata": {},
   "source": [
    "## Treating all Null values "
   ]
  },
  {
   "cell_type": "code",
   "execution_count": 56,
   "metadata": {},
   "outputs": [],
   "source": [
    "data['Assigned at'] = pd.to_datetime('08-04-2023', errors='coerce')\n",
    "data['Initially assigned at'] = pd.to_datetime('08-04-2023', errors='coerce')\n",
    "data['Solved at'] = pd.to_datetime('08-04-2023', errors='coerce')\n",
    "data['Resolution time'] = pd.to_datetime('08-04-2023', errors='coerce')\n",
    "data['Satisfaction Score'].fillna(0, inplace= True)\n",
    "data['First_reply_time_in_minutes_within_business_days'].fillna(0, inplace= True)\n",
    "data['First_resolution_in_days'].fillna(0, inplace= True)\n",
    "data['Full_resolution_time_in_days'].fillna(data['Full_resolution_time_in_days'].mean(), inplace= True)\n",
    "data['Requester_wait_time_in_days'].fillna(data['Requester_wait_time_in_days'].mean(), inplace= True)\n",
    "data['Requester_wait_time_in_minutes_within_business_days'].fillna(data['Requester_wait_time_in_minutes_within_business_days'].mean(), inplace= True)\n",
    "data['First_resolution_time_in_minutes_within_business_days'].fillna(data['First_resolution_time_in_minutes_within_business_days'].mean(), inplace=True)\n",
    "data['Full_resolution_time_in_minutes_within_business_days'].fillna(data['Full_resolution_time_in_minutes_within_business_days'].mean(), inplace=True)                                                              \n"
   ]
  },
  {
   "cell_type": "code",
   "execution_count": 57,
   "metadata": {},
   "outputs": [],
   "source": [
    "data['Manual Tagging of Categories [list]'].fillna('Others', inplace=True)"
   ]
  },
  {
   "cell_type": "code",
   "execution_count": 75,
   "metadata": {},
   "outputs": [],
   "source": [
    "\n",
    "data['Manual Tagging of Categories [list]'] = data['Manual Tagging of Categories [list]'].replace(\"Not Applicable\", \"Others\")\n"
   ]
  },
  {
   "cell_type": "code",
   "execution_count": 76,
   "metadata": {},
   "outputs": [
    {
     "data": {
      "text/plain": [
       "Others                              14156\n",
       "Claims                                904\n",
       "Is my treatment covered (IMTC)        678\n",
       "HR Queries                            266\n",
       "Manage dependents                     148\n",
       "Health ID                             131\n",
       "Health Benefits                        75\n",
       "Super Top-up (STU)                     70\n",
       "Network or Blacklisted Hospitals       28\n",
       "Telehealth                             20\n",
       "Name: Manual Tagging of Categories [list], dtype: int64"
      ]
     },
     "execution_count": 76,
     "metadata": {},
     "output_type": "execute_result"
    }
   ],
   "source": [
    "data['Manual Tagging of Categories [list]'].value_counts()"
   ]
  },
  {
   "cell_type": "markdown",
   "metadata": {},
   "source": [
    "## As result all null values are treated as seen below"
   ]
  },
  {
   "cell_type": "code",
   "execution_count": 59,
   "metadata": {},
   "outputs": [
    {
     "data": {
      "text/plain": [
       "Id                                                       0\n",
       "Requester id                                             0\n",
       "Group                                                    0\n",
       "Status                                                   0\n",
       "Priority                                                 0\n",
       "Via                                                      0\n",
       "Created at                                               0\n",
       "Updated at                                               0\n",
       "Assigned at                                              0\n",
       "Initially assigned at                                    0\n",
       "Solved at                                                0\n",
       "Resolution time                                          0\n",
       "Satisfaction Score                                       0\n",
       "Reopens                                                  0\n",
       "Replies                                                  0\n",
       "Manual Tagging of Categories [list]                      0\n",
       "First_reply_time_in_minutes_within_business_days         0\n",
       "First_resolution_in_days                                 0\n",
       "First_resolution_time_in_minutes_within_business_days    0\n",
       "Full_resolution_time_in_days                             0\n",
       "Full_resolution_time_in_minutes_within_business_days     0\n",
       "Requester_wait_time_in_days                              0\n",
       "Requester_wait_time_in_minutes_within_business_days      0\n",
       "dtype: int64"
      ]
     },
     "execution_count": 59,
     "metadata": {},
     "output_type": "execute_result"
    }
   ],
   "source": [
    "data.isnull().sum()"
   ]
  },
  {
   "cell_type": "code",
   "execution_count": 60,
   "metadata": {},
   "outputs": [
    {
     "data": {
      "text/plain": [
       "(16476, 23)"
      ]
     },
     "execution_count": 60,
     "metadata": {},
     "output_type": "execute_result"
    }
   ],
   "source": [
    "data.shape"
   ]
  },
  {
   "cell_type": "markdown",
   "metadata": {},
   "source": [
    "## Which groups are quick, slow Etcc?"
   ]
  },
  {
   "cell_type": "code",
   "execution_count": 61,
   "metadata": {},
   "outputs": [
    {
     "name": "stdout",
     "output_type": "stream",
     "text": [
      "Quick Group: Reimbursement Claims\n",
      "Slow Group: Endorsements\n"
     ]
    },
    {
     "data": {
      "application/vnd.plotly.v1+json": {
       "config": {
        "plotlyServerURL": "https://plot.ly"
       },
       "data": [
        {
         "marker": {
          "color": "skyblue"
         },
         "text": [
          75.04,
          68.71,
          66.73,
          70.17
         ],
         "textposition": "outside",
         "type": "bar",
         "x": [
          "Endorsements",
          "Onboardings",
          "Reimbursement Claims",
          "Support"
         ],
         "y": [
          75.04319952705846,
          68.71352332285116,
          66.72860831663908,
          70.16601312953165
         ]
        }
       ],
       "layout": {
        "template": {
         "data": {
          "bar": [
           {
            "error_x": {
             "color": "#2a3f5f"
            },
            "error_y": {
             "color": "#2a3f5f"
            },
            "marker": {
             "line": {
              "color": "#E5ECF6",
              "width": 0.5
             },
             "pattern": {
              "fillmode": "overlay",
              "size": 10,
              "solidity": 0.2
             }
            },
            "type": "bar"
           }
          ],
          "barpolar": [
           {
            "marker": {
             "line": {
              "color": "#E5ECF6",
              "width": 0.5
             },
             "pattern": {
              "fillmode": "overlay",
              "size": 10,
              "solidity": 0.2
             }
            },
            "type": "barpolar"
           }
          ],
          "carpet": [
           {
            "aaxis": {
             "endlinecolor": "#2a3f5f",
             "gridcolor": "white",
             "linecolor": "white",
             "minorgridcolor": "white",
             "startlinecolor": "#2a3f5f"
            },
            "baxis": {
             "endlinecolor": "#2a3f5f",
             "gridcolor": "white",
             "linecolor": "white",
             "minorgridcolor": "white",
             "startlinecolor": "#2a3f5f"
            },
            "type": "carpet"
           }
          ],
          "choropleth": [
           {
            "colorbar": {
             "outlinewidth": 0,
             "ticks": ""
            },
            "type": "choropleth"
           }
          ],
          "contour": [
           {
            "colorbar": {
             "outlinewidth": 0,
             "ticks": ""
            },
            "colorscale": [
             [
              0,
              "#0d0887"
             ],
             [
              0.1111111111111111,
              "#46039f"
             ],
             [
              0.2222222222222222,
              "#7201a8"
             ],
             [
              0.3333333333333333,
              "#9c179e"
             ],
             [
              0.4444444444444444,
              "#bd3786"
             ],
             [
              0.5555555555555556,
              "#d8576b"
             ],
             [
              0.6666666666666666,
              "#ed7953"
             ],
             [
              0.7777777777777778,
              "#fb9f3a"
             ],
             [
              0.8888888888888888,
              "#fdca26"
             ],
             [
              1,
              "#f0f921"
             ]
            ],
            "type": "contour"
           }
          ],
          "contourcarpet": [
           {
            "colorbar": {
             "outlinewidth": 0,
             "ticks": ""
            },
            "type": "contourcarpet"
           }
          ],
          "heatmap": [
           {
            "colorbar": {
             "outlinewidth": 0,
             "ticks": ""
            },
            "colorscale": [
             [
              0,
              "#0d0887"
             ],
             [
              0.1111111111111111,
              "#46039f"
             ],
             [
              0.2222222222222222,
              "#7201a8"
             ],
             [
              0.3333333333333333,
              "#9c179e"
             ],
             [
              0.4444444444444444,
              "#bd3786"
             ],
             [
              0.5555555555555556,
              "#d8576b"
             ],
             [
              0.6666666666666666,
              "#ed7953"
             ],
             [
              0.7777777777777778,
              "#fb9f3a"
             ],
             [
              0.8888888888888888,
              "#fdca26"
             ],
             [
              1,
              "#f0f921"
             ]
            ],
            "type": "heatmap"
           }
          ],
          "heatmapgl": [
           {
            "colorbar": {
             "outlinewidth": 0,
             "ticks": ""
            },
            "colorscale": [
             [
              0,
              "#0d0887"
             ],
             [
              0.1111111111111111,
              "#46039f"
             ],
             [
              0.2222222222222222,
              "#7201a8"
             ],
             [
              0.3333333333333333,
              "#9c179e"
             ],
             [
              0.4444444444444444,
              "#bd3786"
             ],
             [
              0.5555555555555556,
              "#d8576b"
             ],
             [
              0.6666666666666666,
              "#ed7953"
             ],
             [
              0.7777777777777778,
              "#fb9f3a"
             ],
             [
              0.8888888888888888,
              "#fdca26"
             ],
             [
              1,
              "#f0f921"
             ]
            ],
            "type": "heatmapgl"
           }
          ],
          "histogram": [
           {
            "marker": {
             "pattern": {
              "fillmode": "overlay",
              "size": 10,
              "solidity": 0.2
             }
            },
            "type": "histogram"
           }
          ],
          "histogram2d": [
           {
            "colorbar": {
             "outlinewidth": 0,
             "ticks": ""
            },
            "colorscale": [
             [
              0,
              "#0d0887"
             ],
             [
              0.1111111111111111,
              "#46039f"
             ],
             [
              0.2222222222222222,
              "#7201a8"
             ],
             [
              0.3333333333333333,
              "#9c179e"
             ],
             [
              0.4444444444444444,
              "#bd3786"
             ],
             [
              0.5555555555555556,
              "#d8576b"
             ],
             [
              0.6666666666666666,
              "#ed7953"
             ],
             [
              0.7777777777777778,
              "#fb9f3a"
             ],
             [
              0.8888888888888888,
              "#fdca26"
             ],
             [
              1,
              "#f0f921"
             ]
            ],
            "type": "histogram2d"
           }
          ],
          "histogram2dcontour": [
           {
            "colorbar": {
             "outlinewidth": 0,
             "ticks": ""
            },
            "colorscale": [
             [
              0,
              "#0d0887"
             ],
             [
              0.1111111111111111,
              "#46039f"
             ],
             [
              0.2222222222222222,
              "#7201a8"
             ],
             [
              0.3333333333333333,
              "#9c179e"
             ],
             [
              0.4444444444444444,
              "#bd3786"
             ],
             [
              0.5555555555555556,
              "#d8576b"
             ],
             [
              0.6666666666666666,
              "#ed7953"
             ],
             [
              0.7777777777777778,
              "#fb9f3a"
             ],
             [
              0.8888888888888888,
              "#fdca26"
             ],
             [
              1,
              "#f0f921"
             ]
            ],
            "type": "histogram2dcontour"
           }
          ],
          "mesh3d": [
           {
            "colorbar": {
             "outlinewidth": 0,
             "ticks": ""
            },
            "type": "mesh3d"
           }
          ],
          "parcoords": [
           {
            "line": {
             "colorbar": {
              "outlinewidth": 0,
              "ticks": ""
             }
            },
            "type": "parcoords"
           }
          ],
          "pie": [
           {
            "automargin": true,
            "type": "pie"
           }
          ],
          "scatter": [
           {
            "fillpattern": {
             "fillmode": "overlay",
             "size": 10,
             "solidity": 0.2
            },
            "type": "scatter"
           }
          ],
          "scatter3d": [
           {
            "line": {
             "colorbar": {
              "outlinewidth": 0,
              "ticks": ""
             }
            },
            "marker": {
             "colorbar": {
              "outlinewidth": 0,
              "ticks": ""
             }
            },
            "type": "scatter3d"
           }
          ],
          "scattercarpet": [
           {
            "marker": {
             "colorbar": {
              "outlinewidth": 0,
              "ticks": ""
             }
            },
            "type": "scattercarpet"
           }
          ],
          "scattergeo": [
           {
            "marker": {
             "colorbar": {
              "outlinewidth": 0,
              "ticks": ""
             }
            },
            "type": "scattergeo"
           }
          ],
          "scattergl": [
           {
            "marker": {
             "colorbar": {
              "outlinewidth": 0,
              "ticks": ""
             }
            },
            "type": "scattergl"
           }
          ],
          "scattermapbox": [
           {
            "marker": {
             "colorbar": {
              "outlinewidth": 0,
              "ticks": ""
             }
            },
            "type": "scattermapbox"
           }
          ],
          "scatterpolar": [
           {
            "marker": {
             "colorbar": {
              "outlinewidth": 0,
              "ticks": ""
             }
            },
            "type": "scatterpolar"
           }
          ],
          "scatterpolargl": [
           {
            "marker": {
             "colorbar": {
              "outlinewidth": 0,
              "ticks": ""
             }
            },
            "type": "scatterpolargl"
           }
          ],
          "scatterternary": [
           {
            "marker": {
             "colorbar": {
              "outlinewidth": 0,
              "ticks": ""
             }
            },
            "type": "scatterternary"
           }
          ],
          "surface": [
           {
            "colorbar": {
             "outlinewidth": 0,
             "ticks": ""
            },
            "colorscale": [
             [
              0,
              "#0d0887"
             ],
             [
              0.1111111111111111,
              "#46039f"
             ],
             [
              0.2222222222222222,
              "#7201a8"
             ],
             [
              0.3333333333333333,
              "#9c179e"
             ],
             [
              0.4444444444444444,
              "#bd3786"
             ],
             [
              0.5555555555555556,
              "#d8576b"
             ],
             [
              0.6666666666666666,
              "#ed7953"
             ],
             [
              0.7777777777777778,
              "#fb9f3a"
             ],
             [
              0.8888888888888888,
              "#fdca26"
             ],
             [
              1,
              "#f0f921"
             ]
            ],
            "type": "surface"
           }
          ],
          "table": [
           {
            "cells": {
             "fill": {
              "color": "#EBF0F8"
             },
             "line": {
              "color": "white"
             }
            },
            "header": {
             "fill": {
              "color": "#C8D4E3"
             },
             "line": {
              "color": "white"
             }
            },
            "type": "table"
           }
          ]
         },
         "layout": {
          "annotationdefaults": {
           "arrowcolor": "#2a3f5f",
           "arrowhead": 0,
           "arrowwidth": 1
          },
          "autotypenumbers": "strict",
          "coloraxis": {
           "colorbar": {
            "outlinewidth": 0,
            "ticks": ""
           }
          },
          "colorscale": {
           "diverging": [
            [
             0,
             "#8e0152"
            ],
            [
             0.1,
             "#c51b7d"
            ],
            [
             0.2,
             "#de77ae"
            ],
            [
             0.3,
             "#f1b6da"
            ],
            [
             0.4,
             "#fde0ef"
            ],
            [
             0.5,
             "#f7f7f7"
            ],
            [
             0.6,
             "#e6f5d0"
            ],
            [
             0.7,
             "#b8e186"
            ],
            [
             0.8,
             "#7fbc41"
            ],
            [
             0.9,
             "#4d9221"
            ],
            [
             1,
             "#276419"
            ]
           ],
           "sequential": [
            [
             0,
             "#0d0887"
            ],
            [
             0.1111111111111111,
             "#46039f"
            ],
            [
             0.2222222222222222,
             "#7201a8"
            ],
            [
             0.3333333333333333,
             "#9c179e"
            ],
            [
             0.4444444444444444,
             "#bd3786"
            ],
            [
             0.5555555555555556,
             "#d8576b"
            ],
            [
             0.6666666666666666,
             "#ed7953"
            ],
            [
             0.7777777777777778,
             "#fb9f3a"
            ],
            [
             0.8888888888888888,
             "#fdca26"
            ],
            [
             1,
             "#f0f921"
            ]
           ],
           "sequentialminus": [
            [
             0,
             "#0d0887"
            ],
            [
             0.1111111111111111,
             "#46039f"
            ],
            [
             0.2222222222222222,
             "#7201a8"
            ],
            [
             0.3333333333333333,
             "#9c179e"
            ],
            [
             0.4444444444444444,
             "#bd3786"
            ],
            [
             0.5555555555555556,
             "#d8576b"
            ],
            [
             0.6666666666666666,
             "#ed7953"
            ],
            [
             0.7777777777777778,
             "#fb9f3a"
            ],
            [
             0.8888888888888888,
             "#fdca26"
            ],
            [
             1,
             "#f0f921"
            ]
           ]
          },
          "colorway": [
           "#636efa",
           "#EF553B",
           "#00cc96",
           "#ab63fa",
           "#FFA15A",
           "#19d3f3",
           "#FF6692",
           "#B6E880",
           "#FF97FF",
           "#FECB52"
          ],
          "font": {
           "color": "#2a3f5f"
          },
          "geo": {
           "bgcolor": "white",
           "lakecolor": "white",
           "landcolor": "#E5ECF6",
           "showlakes": true,
           "showland": true,
           "subunitcolor": "white"
          },
          "hoverlabel": {
           "align": "left"
          },
          "hovermode": "closest",
          "mapbox": {
           "style": "light"
          },
          "paper_bgcolor": "white",
          "plot_bgcolor": "#E5ECF6",
          "polar": {
           "angularaxis": {
            "gridcolor": "white",
            "linecolor": "white",
            "ticks": ""
           },
           "bgcolor": "#E5ECF6",
           "radialaxis": {
            "gridcolor": "white",
            "linecolor": "white",
            "ticks": ""
           }
          },
          "scene": {
           "xaxis": {
            "backgroundcolor": "#E5ECF6",
            "gridcolor": "white",
            "gridwidth": 2,
            "linecolor": "white",
            "showbackground": true,
            "ticks": "",
            "zerolinecolor": "white"
           },
           "yaxis": {
            "backgroundcolor": "#E5ECF6",
            "gridcolor": "white",
            "gridwidth": 2,
            "linecolor": "white",
            "showbackground": true,
            "ticks": "",
            "zerolinecolor": "white"
           },
           "zaxis": {
            "backgroundcolor": "#E5ECF6",
            "gridcolor": "white",
            "gridwidth": 2,
            "linecolor": "white",
            "showbackground": true,
            "ticks": "",
            "zerolinecolor": "white"
           }
          },
          "shapedefaults": {
           "line": {
            "color": "#2a3f5f"
           }
          },
          "ternary": {
           "aaxis": {
            "gridcolor": "white",
            "linecolor": "white",
            "ticks": ""
           },
           "baxis": {
            "gridcolor": "white",
            "linecolor": "white",
            "ticks": ""
           },
           "bgcolor": "#E5ECF6",
           "caxis": {
            "gridcolor": "white",
            "linecolor": "white",
            "ticks": ""
           }
          },
          "title": {
           "x": 0.05
          },
          "xaxis": {
           "automargin": true,
           "gridcolor": "white",
           "linecolor": "white",
           "ticks": "",
           "title": {
            "standoff": 15
           },
           "zerolinecolor": "white",
           "zerolinewidth": 2
          },
          "yaxis": {
           "automargin": true,
           "gridcolor": "white",
           "linecolor": "white",
           "ticks": "",
           "title": {
            "standoff": 15
           },
           "zerolinecolor": "white",
           "zerolinewidth": 2
          }
         }
        },
        "title": {
         "text": "Average Time to Solve by Group"
        },
        "xaxis": {
         "title": {
          "text": "Group"
         }
        },
        "yaxis": {
         "title": {
          "text": "Average Time to Solve (Days)"
         }
        }
       }
      }
     },
     "metadata": {},
     "output_type": "display_data"
    },
    {
     "data": {
      "text/plain": [
       "DataTable(data=[{'Group': 'Endorsements', 'count': 6449.0, 'mean': 75.04319952705846, 'std': 68.28306941192479, 'min': -123.82847222222222, '25%': 69.44375, '50%': 90.70694444444445, '75%': 106.70833333333333, 'max': 211.70833333333334}, {'Group': 'Onboardings', 'count': 530.0, 'mean': 68.71352332285116, 'std': 75.55646356757009, 'min': -123.82222222222222, '25%': 65.1765625, '50%': 79.51180555555555, '75%': 106.38107638888889, 'max': 211.63819444444445}, {'Group': 'Reimbursement Claims', 'count': 3827.0, 'mean': 66.72860831663908, 'std': 73.68637042332341, 'min': -123.99513888888889, '25%': 65.08298611111111, '50%': 80.06180555555555, '75%': 106.33020833333333, 'max': 211.89930555555554}, {'Group': 'Support', 'count': 5670.0, 'mean': 70.16601312953165, 'std': 71.37539949398219, 'min': -123.99444444444444, '25%': 65.44704861111111, '50%': 80.1263888888889, '75%': 106.35972222222222, 'max': 211.97847222222222}], columns=[{'name': 'Group', 'id': 'Group'}, {'name': 'count', 'id': 'count'}, {'name': 'mean', 'id': 'mean'}, {'name': 'std', 'id': 'std'}, {'name': 'min', 'id': 'min'}, {'name': '25%', 'id': '25%'}, {'name': '50%', 'id': '50%'}, {'name': '75%', 'id': '75%'}, {'name': 'max', 'id': 'max'}], id='table')"
      ]
     },
     "metadata": {},
     "output_type": "display_data"
    },
    {
     "data": {
      "text/html": [
       "<div>\n",
       "<style scoped>\n",
       "    .dataframe tbody tr th:only-of-type {\n",
       "        vertical-align: middle;\n",
       "    }\n",
       "\n",
       "    .dataframe tbody tr th {\n",
       "        vertical-align: top;\n",
       "    }\n",
       "\n",
       "    .dataframe thead th {\n",
       "        text-align: right;\n",
       "    }\n",
       "</style>\n",
       "<table border=\"1\" class=\"dataframe\">\n",
       "  <thead>\n",
       "    <tr style=\"text-align: right;\">\n",
       "      <th></th>\n",
       "      <th>index</th>\n",
       "    </tr>\n",
       "  </thead>\n",
       "  <tbody>\n",
       "  </tbody>\n",
       "</table>\n",
       "</div>"
      ],
      "text/plain": [
       "Empty DataFrame\n",
       "Columns: [index]\n",
       "Index: []"
      ]
     },
     "execution_count": 61,
     "metadata": {},
     "output_type": "execute_result"
    }
   ],
   "source": [
    "time_columns = ['Created at', 'Updated at', 'Assigned at', 'Initially assigned at', 'Solved at']\n",
    "for column in time_columns:\n",
    "    data[column] = pd.to_datetime(data[column], errors='coerce')\n",
    "\n",
    "# Calculate time to solve\n",
    "data['Time_to_Solve'] = (data['Solved at'] - data['Created at']).dt.total_seconds() / (60*60*24)  # Convert to days\n",
    "\n",
    "# Group by group\n",
    "grouped_by_group = data.groupby('Group')\n",
    "\n",
    "# Calculate average time to solve for each group\n",
    "average_time_by_group = grouped_by_group['Time_to_Solve'].mean().reset_index()\n",
    "\n",
    "# Identify the quickest and slowest groups\n",
    "quick_group = average_time_by_group.loc[average_time_by_group['Time_to_Solve'].idxmin(), 'Group']\n",
    "slow_group = average_time_by_group.loc[average_time_by_group['Time_to_Solve'].idxmax(), 'Group']\n",
    "\n",
    "print(f\"Quick Group: {quick_group}\")\n",
    "print(f\"Slow Group: {slow_group}\")\n",
    "\n",
    "# Create Plotly Graph Objects Bar Chart\n",
    "bar_fig = go.Figure()\n",
    "bar_fig.add_trace(\n",
    "    go.Bar(\n",
    "        x=average_time_by_group['Group'],\n",
    "        y=average_time_by_group['Time_to_Solve'],\n",
    "        text=average_time_by_group['Time_to_Solve'].round(2),\n",
    "        textposition='outside',\n",
    "        marker=dict(color='skyblue'),\n",
    "    )\n",
    ")\n",
    "\n",
    "bar_fig.update_layout(\n",
    "    title='Average Time to Solve by Group',\n",
    "    xaxis_title='Group',\n",
    "    yaxis_title='Average Time to Solve (Days)',\n",
    ")\n",
    "\n",
    "# Dash DataTable\n",
    "table_fig = DataTable(\n",
    "    id='table',\n",
    "    columns=[\n",
    "        {\"name\": col, \"id\": col} for col in data.groupby('Group')['Time_to_Solve'].describe().reset_index().columns\n",
    "    ],\n",
    "    data=data.groupby('Group')['Time_to_Solve'].describe().reset_index().to_dict('records'),\n",
    ")\n",
    "\n",
    "# Display the bar chart and table\n",
    "pd.DataFrame(display(bar_fig)).reset_index()\n",
    "pd.DataFrame(display(table_fig)).reset_index()"
   ]
  },
  {
   "cell_type": "markdown",
   "metadata": {},
   "source": [
    "## What type of tickets are taking the most time to resolve? "
   ]
  },
  {
   "cell_type": "code",
   "execution_count": 77,
   "metadata": {},
   "outputs": [
    {
     "data": {
      "text/html": [
       "\n",
       "        <iframe\n",
       "            width=\"100%\"\n",
       "            height=\"650\"\n",
       "            src=\"http://127.0.0.1:8050/\"\n",
       "            frameborder=\"0\"\n",
       "            allowfullscreen\n",
       "            \n",
       "        ></iframe>\n",
       "        "
      ],
      "text/plain": [
       "<IPython.lib.display.IFrame at 0x1c671292b10>"
      ]
     },
     "metadata": {},
     "output_type": "display_data"
    }
   ],
   "source": [
    "# Convert time columns to datetime\n",
    "time_columns = ['Created at', 'Updated at', 'Assigned at', 'Initially assigned at', 'Solved at']\n",
    "for column in time_columns:\n",
    "    data[column] = pd.to_datetime(data[column], errors='coerce')\n",
    "\n",
    "# Calculate time to resolve\n",
    "data['Time_to_Resolve'] = (data['Solved at'] - data['Created at']).dt.total_seconds() / (60*60*24)  # Convert to minutes\n",
    "\n",
    "# Group by ticket type\n",
    "grouped_by_type = data.groupby('Manual Tagging of Categories [list]')\n",
    "\n",
    "# Calculate average time to resolve for each ticket type\n",
    "average_time_by_type = grouped_by_type['Time_to_Resolve'].mean().reset_index()\n",
    "\n",
    "# Dash app\n",
    "app = dash.Dash(__name__)\n",
    "\n",
    "# Layout of the Dash app\n",
    "app.layout = html.Div(children=[\n",
    "    # Bar chart for ticket types\n",
    "    dcc.Graph(\n",
    "        id='bar-chart-type',\n",
    "        figure={\n",
    "            'data': [\n",
    "                go.Bar(\n",
    "                    x=average_time_by_type['Manual Tagging of Categories [list]'],\n",
    "                    y=average_time_by_type['Time_to_Resolve'],\n",
    "                    text=average_time_by_type['Time_to_Resolve'].round(2),\n",
    "                    textposition='outside',\n",
    "                    marker=dict(color='skyblue'),\n",
    "                )\n",
    "            ],\n",
    "            'layout': {\n",
    "                'title': 'Average Time to Resolve by Ticket Type',\n",
    "                'xaxis': {'title': 'Ticket Type'},\n",
    "                'yaxis': {'title': 'Average Time to Resolve (minutes)'},\n",
    "            }\n",
    "        }\n",
    "    ),\n",
    "    # DataTable for ticket types\n",
    "    DataTable(\n",
    "        id='table-type',\n",
    "        columns=[\n",
    "            {\"name\": col, \"id\": col} for col in data.groupby('Manual Tagging of Categories [list]')['Time_to_Resolve'].describe().reset_index().columns\n",
    "        ],\n",
    "        data=data.groupby('Manual Tagging of Categories [list]')['Time_to_Resolve'].describe().reset_index().to_dict('records'),\n",
    "    ),\n",
    "])\n",
    "\n",
    "# Run the Dash app\n",
    "if __name__ == '__main__':\n",
    "    app.run_server(debug=True)\n"
   ]
  },
  {
   "cell_type": "markdown",
   "metadata": {},
   "source": [
    "## Which group have completed task as per the status?"
   ]
  },
  {
   "cell_type": "code",
   "execution_count": 78,
   "metadata": {},
   "outputs": [],
   "source": [
    "result = data.groupby(['Group','Status']).size().unstack(fill_value=0).reset_index()"
   ]
  },
  {
   "cell_type": "code",
   "execution_count": 79,
   "metadata": {},
   "outputs": [
    {
     "data": {
      "text/html": [
       "<div>\n",
       "<style scoped>\n",
       "    .dataframe tbody tr th:only-of-type {\n",
       "        vertical-align: middle;\n",
       "    }\n",
       "\n",
       "    .dataframe tbody tr th {\n",
       "        vertical-align: top;\n",
       "    }\n",
       "\n",
       "    .dataframe thead th {\n",
       "        text-align: right;\n",
       "    }\n",
       "</style>\n",
       "<table border=\"1\" class=\"dataframe\">\n",
       "  <thead>\n",
       "    <tr style=\"text-align: right;\">\n",
       "      <th>Status</th>\n",
       "      <th>Group</th>\n",
       "      <th>Closed</th>\n",
       "      <th>Hold</th>\n",
       "      <th>New</th>\n",
       "      <th>Open</th>\n",
       "      <th>Pending</th>\n",
       "      <th>Solved</th>\n",
       "    </tr>\n",
       "  </thead>\n",
       "  <tbody>\n",
       "    <tr>\n",
       "      <th>0</th>\n",
       "      <td>Endorsements</td>\n",
       "      <td>4794</td>\n",
       "      <td>17</td>\n",
       "      <td>124</td>\n",
       "      <td>162</td>\n",
       "      <td>527</td>\n",
       "      <td>825</td>\n",
       "    </tr>\n",
       "    <tr>\n",
       "      <th>1</th>\n",
       "      <td>Onboardings</td>\n",
       "      <td>213</td>\n",
       "      <td>0</td>\n",
       "      <td>2</td>\n",
       "      <td>22</td>\n",
       "      <td>147</td>\n",
       "      <td>146</td>\n",
       "    </tr>\n",
       "    <tr>\n",
       "      <th>2</th>\n",
       "      <td>Reimbursement Claims</td>\n",
       "      <td>2455</td>\n",
       "      <td>662</td>\n",
       "      <td>0</td>\n",
       "      <td>186</td>\n",
       "      <td>1</td>\n",
       "      <td>523</td>\n",
       "    </tr>\n",
       "    <tr>\n",
       "      <th>3</th>\n",
       "      <td>Support</td>\n",
       "      <td>4808</td>\n",
       "      <td>111</td>\n",
       "      <td>0</td>\n",
       "      <td>100</td>\n",
       "      <td>6</td>\n",
       "      <td>645</td>\n",
       "    </tr>\n",
       "  </tbody>\n",
       "</table>\n",
       "</div>"
      ],
      "text/plain": [
       "Status                 Group  Closed  Hold  New  Open  Pending  Solved\n",
       "0               Endorsements    4794    17  124   162      527     825\n",
       "1                Onboardings     213     0    2    22      147     146\n",
       "2       Reimbursement Claims    2455   662    0   186        1     523\n",
       "3                    Support    4808   111    0   100        6     645"
      ]
     },
     "execution_count": 79,
     "metadata": {},
     "output_type": "execute_result"
    }
   ],
   "source": [
    "result"
   ]
  },
  {
   "cell_type": "markdown",
   "metadata": {},
   "source": [
    "## which group have replied faster as the code shows below?"
   ]
  },
  {
   "cell_type": "code",
   "execution_count": 80,
   "metadata": {},
   "outputs": [],
   "source": [
    "reply_by_group = data.groupby('Group')['Replies'].max().reset_index()"
   ]
  },
  {
   "cell_type": "code",
   "execution_count": 81,
   "metadata": {},
   "outputs": [
    {
     "data": {
      "text/html": [
       "<div>\n",
       "<style scoped>\n",
       "    .dataframe tbody tr th:only-of-type {\n",
       "        vertical-align: middle;\n",
       "    }\n",
       "\n",
       "    .dataframe tbody tr th {\n",
       "        vertical-align: top;\n",
       "    }\n",
       "\n",
       "    .dataframe thead th {\n",
       "        text-align: right;\n",
       "    }\n",
       "</style>\n",
       "<table border=\"1\" class=\"dataframe\">\n",
       "  <thead>\n",
       "    <tr style=\"text-align: right;\">\n",
       "      <th></th>\n",
       "      <th>Group</th>\n",
       "      <th>Replies</th>\n",
       "    </tr>\n",
       "  </thead>\n",
       "  <tbody>\n",
       "    <tr>\n",
       "      <th>0</th>\n",
       "      <td>Endorsements</td>\n",
       "      <td>25</td>\n",
       "    </tr>\n",
       "    <tr>\n",
       "      <th>1</th>\n",
       "      <td>Onboardings</td>\n",
       "      <td>36</td>\n",
       "    </tr>\n",
       "    <tr>\n",
       "      <th>2</th>\n",
       "      <td>Reimbursement Claims</td>\n",
       "      <td>28</td>\n",
       "    </tr>\n",
       "    <tr>\n",
       "      <th>3</th>\n",
       "      <td>Support</td>\n",
       "      <td>24</td>\n",
       "    </tr>\n",
       "  </tbody>\n",
       "</table>\n",
       "</div>"
      ],
      "text/plain": [
       "                  Group  Replies\n",
       "0          Endorsements       25\n",
       "1           Onboardings       36\n",
       "2  Reimbursement Claims       28\n",
       "3               Support       24"
      ]
     },
     "execution_count": 81,
     "metadata": {},
     "output_type": "execute_result"
    }
   ],
   "source": [
    "reply_by_group"
   ]
  },
  {
   "cell_type": "code",
   "execution_count": 82,
   "metadata": {},
   "outputs": [
    {
     "name": "stdout",
     "output_type": "stream",
     "text": [
      "Average First Reply Time by Group:\n",
      "                  Group   Replies\n",
      "0          Endorsements  1.104047\n",
      "1           Onboardings  6.364151\n",
      "2  Reimbursement Claims  2.753332\n",
      "3               Support  2.545855\n",
      "The group with the fastest average first reply time is: Endorsements\n"
     ]
    }
   ],
   "source": [
    "average_first_reply_by_group = data.groupby('Group')['Replies'].mean().reset_index()\n",
    "\n",
    "# Display the average first reply times by group\n",
    "print(\"Average First Reply Time by Group:\")\n",
    "print(average_first_reply_by_group)\n",
    "\n",
    "# Find the group with the lowest average first reply time\n",
    "fastest_reply_group = average_first_reply_by_group.loc[average_first_reply_by_group['Replies'].idxmin(), 'Group']\n",
    "\n",
    "print(f\"The group with the fastest average first reply time is: {fastest_reply_group}\")"
   ]
  },
  {
   "cell_type": "code",
   "execution_count": 83,
   "metadata": {},
   "outputs": [],
   "source": [
    "data.to_csv(\"upd_plum.csv\")"
   ]
  },
  {
   "cell_type": "markdown",
   "metadata": {},
   "source": [
    "## Which team is completing the task on time?"
   ]
  },
  {
   "cell_type": "code",
   "execution_count": 84,
   "metadata": {},
   "outputs": [],
   "source": [
    "timely = data.groupby(['Group','Resolution time']).size().unstack(fill_value=0).reset_index()\n"
   ]
  },
  {
   "cell_type": "code",
   "execution_count": 85,
   "metadata": {},
   "outputs": [
    {
     "data": {
      "text/html": [
       "<div>\n",
       "<style scoped>\n",
       "    .dataframe tbody tr th:only-of-type {\n",
       "        vertical-align: middle;\n",
       "    }\n",
       "\n",
       "    .dataframe tbody tr th {\n",
       "        vertical-align: top;\n",
       "    }\n",
       "\n",
       "    .dataframe thead th {\n",
       "        text-align: right;\n",
       "    }\n",
       "</style>\n",
       "<table border=\"1\" class=\"dataframe\">\n",
       "  <thead>\n",
       "    <tr style=\"text-align: right;\">\n",
       "      <th>Resolution time</th>\n",
       "      <th>Group</th>\n",
       "      <th>2023-08-04 00:00:00</th>\n",
       "    </tr>\n",
       "  </thead>\n",
       "  <tbody>\n",
       "    <tr>\n",
       "      <th>0</th>\n",
       "      <td>Endorsements</td>\n",
       "      <td>6449</td>\n",
       "    </tr>\n",
       "    <tr>\n",
       "      <th>1</th>\n",
       "      <td>Onboardings</td>\n",
       "      <td>530</td>\n",
       "    </tr>\n",
       "    <tr>\n",
       "      <th>2</th>\n",
       "      <td>Reimbursement Claims</td>\n",
       "      <td>3827</td>\n",
       "    </tr>\n",
       "    <tr>\n",
       "      <th>3</th>\n",
       "      <td>Support</td>\n",
       "      <td>5670</td>\n",
       "    </tr>\n",
       "  </tbody>\n",
       "</table>\n",
       "</div>"
      ],
      "text/plain": [
       "Resolution time                 Group  2023-08-04 00:00:00\n",
       "0                        Endorsements                 6449\n",
       "1                         Onboardings                  530\n",
       "2                Reimbursement Claims                 3827\n",
       "3                             Support                 5670"
      ]
     },
     "execution_count": 85,
     "metadata": {},
     "output_type": "execute_result"
    }
   ],
   "source": [
    "timely"
   ]
  },
  {
   "cell_type": "code",
   "execution_count": 86,
   "metadata": {},
   "outputs": [
    {
     "data": {
      "text/plain": [
       "Others                              14156\n",
       "Claims                                904\n",
       "Is my treatment covered (IMTC)        678\n",
       "HR Queries                            266\n",
       "Manage dependents                     148\n",
       "Health ID                             131\n",
       "Health Benefits                        75\n",
       "Super Top-up (STU)                     70\n",
       "Network or Blacklisted Hospitals       28\n",
       "Telehealth                             20\n",
       "Name: Manual Tagging of Categories [list], dtype: int64"
      ]
     },
     "execution_count": 86,
     "metadata": {},
     "output_type": "execute_result"
    }
   ],
   "source": [
    "data['Manual Tagging of Categories [list]'].value_counts()"
   ]
  },
  {
   "cell_type": "code",
   "execution_count": 72,
   "metadata": {},
   "outputs": [
    {
     "data": {
      "application/vnd.plotly.v1+json": {
       "config": {
        "plotlyServerURL": "https://plot.ly"
       },
       "data": [
        {
         "alignmentgroup": "True",
         "hovertemplate": "x=%{x}<br>y=%{y}<extra></extra>",
         "legendgroup": "",
         "marker": {
          "color": "#636efa",
          "pattern": {
           "shape": ""
          }
         },
         "name": "",
         "offsetgroup": "",
         "orientation": "v",
         "showlegend": false,
         "textposition": "auto",
         "type": "bar",
         "x": [
          "Others",
          "Claims",
          "IMTC",
          "HR Queries",
          "Manage Dependents"
         ],
         "xaxis": "x",
         "y": [
          14082,
          904,
          678,
          266,
          148
         ],
         "yaxis": "y"
        }
       ],
       "layout": {
        "barmode": "relative",
        "legend": {
         "tracegroupgap": 0
        },
        "margin": {
         "t": 60
        },
        "template": {
         "data": {
          "bar": [
           {
            "error_x": {
             "color": "#2a3f5f"
            },
            "error_y": {
             "color": "#2a3f5f"
            },
            "marker": {
             "line": {
              "color": "#E5ECF6",
              "width": 0.5
             },
             "pattern": {
              "fillmode": "overlay",
              "size": 10,
              "solidity": 0.2
             }
            },
            "type": "bar"
           }
          ],
          "barpolar": [
           {
            "marker": {
             "line": {
              "color": "#E5ECF6",
              "width": 0.5
             },
             "pattern": {
              "fillmode": "overlay",
              "size": 10,
              "solidity": 0.2
             }
            },
            "type": "barpolar"
           }
          ],
          "carpet": [
           {
            "aaxis": {
             "endlinecolor": "#2a3f5f",
             "gridcolor": "white",
             "linecolor": "white",
             "minorgridcolor": "white",
             "startlinecolor": "#2a3f5f"
            },
            "baxis": {
             "endlinecolor": "#2a3f5f",
             "gridcolor": "white",
             "linecolor": "white",
             "minorgridcolor": "white",
             "startlinecolor": "#2a3f5f"
            },
            "type": "carpet"
           }
          ],
          "choropleth": [
           {
            "colorbar": {
             "outlinewidth": 0,
             "ticks": ""
            },
            "type": "choropleth"
           }
          ],
          "contour": [
           {
            "colorbar": {
             "outlinewidth": 0,
             "ticks": ""
            },
            "colorscale": [
             [
              0,
              "#0d0887"
             ],
             [
              0.1111111111111111,
              "#46039f"
             ],
             [
              0.2222222222222222,
              "#7201a8"
             ],
             [
              0.3333333333333333,
              "#9c179e"
             ],
             [
              0.4444444444444444,
              "#bd3786"
             ],
             [
              0.5555555555555556,
              "#d8576b"
             ],
             [
              0.6666666666666666,
              "#ed7953"
             ],
             [
              0.7777777777777778,
              "#fb9f3a"
             ],
             [
              0.8888888888888888,
              "#fdca26"
             ],
             [
              1,
              "#f0f921"
             ]
            ],
            "type": "contour"
           }
          ],
          "contourcarpet": [
           {
            "colorbar": {
             "outlinewidth": 0,
             "ticks": ""
            },
            "type": "contourcarpet"
           }
          ],
          "heatmap": [
           {
            "colorbar": {
             "outlinewidth": 0,
             "ticks": ""
            },
            "colorscale": [
             [
              0,
              "#0d0887"
             ],
             [
              0.1111111111111111,
              "#46039f"
             ],
             [
              0.2222222222222222,
              "#7201a8"
             ],
             [
              0.3333333333333333,
              "#9c179e"
             ],
             [
              0.4444444444444444,
              "#bd3786"
             ],
             [
              0.5555555555555556,
              "#d8576b"
             ],
             [
              0.6666666666666666,
              "#ed7953"
             ],
             [
              0.7777777777777778,
              "#fb9f3a"
             ],
             [
              0.8888888888888888,
              "#fdca26"
             ],
             [
              1,
              "#f0f921"
             ]
            ],
            "type": "heatmap"
           }
          ],
          "heatmapgl": [
           {
            "colorbar": {
             "outlinewidth": 0,
             "ticks": ""
            },
            "colorscale": [
             [
              0,
              "#0d0887"
             ],
             [
              0.1111111111111111,
              "#46039f"
             ],
             [
              0.2222222222222222,
              "#7201a8"
             ],
             [
              0.3333333333333333,
              "#9c179e"
             ],
             [
              0.4444444444444444,
              "#bd3786"
             ],
             [
              0.5555555555555556,
              "#d8576b"
             ],
             [
              0.6666666666666666,
              "#ed7953"
             ],
             [
              0.7777777777777778,
              "#fb9f3a"
             ],
             [
              0.8888888888888888,
              "#fdca26"
             ],
             [
              1,
              "#f0f921"
             ]
            ],
            "type": "heatmapgl"
           }
          ],
          "histogram": [
           {
            "marker": {
             "pattern": {
              "fillmode": "overlay",
              "size": 10,
              "solidity": 0.2
             }
            },
            "type": "histogram"
           }
          ],
          "histogram2d": [
           {
            "colorbar": {
             "outlinewidth": 0,
             "ticks": ""
            },
            "colorscale": [
             [
              0,
              "#0d0887"
             ],
             [
              0.1111111111111111,
              "#46039f"
             ],
             [
              0.2222222222222222,
              "#7201a8"
             ],
             [
              0.3333333333333333,
              "#9c179e"
             ],
             [
              0.4444444444444444,
              "#bd3786"
             ],
             [
              0.5555555555555556,
              "#d8576b"
             ],
             [
              0.6666666666666666,
              "#ed7953"
             ],
             [
              0.7777777777777778,
              "#fb9f3a"
             ],
             [
              0.8888888888888888,
              "#fdca26"
             ],
             [
              1,
              "#f0f921"
             ]
            ],
            "type": "histogram2d"
           }
          ],
          "histogram2dcontour": [
           {
            "colorbar": {
             "outlinewidth": 0,
             "ticks": ""
            },
            "colorscale": [
             [
              0,
              "#0d0887"
             ],
             [
              0.1111111111111111,
              "#46039f"
             ],
             [
              0.2222222222222222,
              "#7201a8"
             ],
             [
              0.3333333333333333,
              "#9c179e"
             ],
             [
              0.4444444444444444,
              "#bd3786"
             ],
             [
              0.5555555555555556,
              "#d8576b"
             ],
             [
              0.6666666666666666,
              "#ed7953"
             ],
             [
              0.7777777777777778,
              "#fb9f3a"
             ],
             [
              0.8888888888888888,
              "#fdca26"
             ],
             [
              1,
              "#f0f921"
             ]
            ],
            "type": "histogram2dcontour"
           }
          ],
          "mesh3d": [
           {
            "colorbar": {
             "outlinewidth": 0,
             "ticks": ""
            },
            "type": "mesh3d"
           }
          ],
          "parcoords": [
           {
            "line": {
             "colorbar": {
              "outlinewidth": 0,
              "ticks": ""
             }
            },
            "type": "parcoords"
           }
          ],
          "pie": [
           {
            "automargin": true,
            "type": "pie"
           }
          ],
          "scatter": [
           {
            "fillpattern": {
             "fillmode": "overlay",
             "size": 10,
             "solidity": 0.2
            },
            "type": "scatter"
           }
          ],
          "scatter3d": [
           {
            "line": {
             "colorbar": {
              "outlinewidth": 0,
              "ticks": ""
             }
            },
            "marker": {
             "colorbar": {
              "outlinewidth": 0,
              "ticks": ""
             }
            },
            "type": "scatter3d"
           }
          ],
          "scattercarpet": [
           {
            "marker": {
             "colorbar": {
              "outlinewidth": 0,
              "ticks": ""
             }
            },
            "type": "scattercarpet"
           }
          ],
          "scattergeo": [
           {
            "marker": {
             "colorbar": {
              "outlinewidth": 0,
              "ticks": ""
             }
            },
            "type": "scattergeo"
           }
          ],
          "scattergl": [
           {
            "marker": {
             "colorbar": {
              "outlinewidth": 0,
              "ticks": ""
             }
            },
            "type": "scattergl"
           }
          ],
          "scattermapbox": [
           {
            "marker": {
             "colorbar": {
              "outlinewidth": 0,
              "ticks": ""
             }
            },
            "type": "scattermapbox"
           }
          ],
          "scatterpolar": [
           {
            "marker": {
             "colorbar": {
              "outlinewidth": 0,
              "ticks": ""
             }
            },
            "type": "scatterpolar"
           }
          ],
          "scatterpolargl": [
           {
            "marker": {
             "colorbar": {
              "outlinewidth": 0,
              "ticks": ""
             }
            },
            "type": "scatterpolargl"
           }
          ],
          "scatterternary": [
           {
            "marker": {
             "colorbar": {
              "outlinewidth": 0,
              "ticks": ""
             }
            },
            "type": "scatterternary"
           }
          ],
          "surface": [
           {
            "colorbar": {
             "outlinewidth": 0,
             "ticks": ""
            },
            "colorscale": [
             [
              0,
              "#0d0887"
             ],
             [
              0.1111111111111111,
              "#46039f"
             ],
             [
              0.2222222222222222,
              "#7201a8"
             ],
             [
              0.3333333333333333,
              "#9c179e"
             ],
             [
              0.4444444444444444,
              "#bd3786"
             ],
             [
              0.5555555555555556,
              "#d8576b"
             ],
             [
              0.6666666666666666,
              "#ed7953"
             ],
             [
              0.7777777777777778,
              "#fb9f3a"
             ],
             [
              0.8888888888888888,
              "#fdca26"
             ],
             [
              1,
              "#f0f921"
             ]
            ],
            "type": "surface"
           }
          ],
          "table": [
           {
            "cells": {
             "fill": {
              "color": "#EBF0F8"
             },
             "line": {
              "color": "white"
             }
            },
            "header": {
             "fill": {
              "color": "#C8D4E3"
             },
             "line": {
              "color": "white"
             }
            },
            "type": "table"
           }
          ]
         },
         "layout": {
          "annotationdefaults": {
           "arrowcolor": "#2a3f5f",
           "arrowhead": 0,
           "arrowwidth": 1
          },
          "autotypenumbers": "strict",
          "coloraxis": {
           "colorbar": {
            "outlinewidth": 0,
            "ticks": ""
           }
          },
          "colorscale": {
           "diverging": [
            [
             0,
             "#8e0152"
            ],
            [
             0.1,
             "#c51b7d"
            ],
            [
             0.2,
             "#de77ae"
            ],
            [
             0.3,
             "#f1b6da"
            ],
            [
             0.4,
             "#fde0ef"
            ],
            [
             0.5,
             "#f7f7f7"
            ],
            [
             0.6,
             "#e6f5d0"
            ],
            [
             0.7,
             "#b8e186"
            ],
            [
             0.8,
             "#7fbc41"
            ],
            [
             0.9,
             "#4d9221"
            ],
            [
             1,
             "#276419"
            ]
           ],
           "sequential": [
            [
             0,
             "#0d0887"
            ],
            [
             0.1111111111111111,
             "#46039f"
            ],
            [
             0.2222222222222222,
             "#7201a8"
            ],
            [
             0.3333333333333333,
             "#9c179e"
            ],
            [
             0.4444444444444444,
             "#bd3786"
            ],
            [
             0.5555555555555556,
             "#d8576b"
            ],
            [
             0.6666666666666666,
             "#ed7953"
            ],
            [
             0.7777777777777778,
             "#fb9f3a"
            ],
            [
             0.8888888888888888,
             "#fdca26"
            ],
            [
             1,
             "#f0f921"
            ]
           ],
           "sequentialminus": [
            [
             0,
             "#0d0887"
            ],
            [
             0.1111111111111111,
             "#46039f"
            ],
            [
             0.2222222222222222,
             "#7201a8"
            ],
            [
             0.3333333333333333,
             "#9c179e"
            ],
            [
             0.4444444444444444,
             "#bd3786"
            ],
            [
             0.5555555555555556,
             "#d8576b"
            ],
            [
             0.6666666666666666,
             "#ed7953"
            ],
            [
             0.7777777777777778,
             "#fb9f3a"
            ],
            [
             0.8888888888888888,
             "#fdca26"
            ],
            [
             1,
             "#f0f921"
            ]
           ]
          },
          "colorway": [
           "#636efa",
           "#EF553B",
           "#00cc96",
           "#ab63fa",
           "#FFA15A",
           "#19d3f3",
           "#FF6692",
           "#B6E880",
           "#FF97FF",
           "#FECB52"
          ],
          "font": {
           "color": "#2a3f5f"
          },
          "geo": {
           "bgcolor": "white",
           "lakecolor": "white",
           "landcolor": "#E5ECF6",
           "showlakes": true,
           "showland": true,
           "subunitcolor": "white"
          },
          "hoverlabel": {
           "align": "left"
          },
          "hovermode": "closest",
          "mapbox": {
           "style": "light"
          },
          "paper_bgcolor": "white",
          "plot_bgcolor": "#E5ECF6",
          "polar": {
           "angularaxis": {
            "gridcolor": "white",
            "linecolor": "white",
            "ticks": ""
           },
           "bgcolor": "#E5ECF6",
           "radialaxis": {
            "gridcolor": "white",
            "linecolor": "white",
            "ticks": ""
           }
          },
          "scene": {
           "xaxis": {
            "backgroundcolor": "#E5ECF6",
            "gridcolor": "white",
            "gridwidth": 2,
            "linecolor": "white",
            "showbackground": true,
            "ticks": "",
            "zerolinecolor": "white"
           },
           "yaxis": {
            "backgroundcolor": "#E5ECF6",
            "gridcolor": "white",
            "gridwidth": 2,
            "linecolor": "white",
            "showbackground": true,
            "ticks": "",
            "zerolinecolor": "white"
           },
           "zaxis": {
            "backgroundcolor": "#E5ECF6",
            "gridcolor": "white",
            "gridwidth": 2,
            "linecolor": "white",
            "showbackground": true,
            "ticks": "",
            "zerolinecolor": "white"
           }
          },
          "shapedefaults": {
           "line": {
            "color": "#2a3f5f"
           }
          },
          "ternary": {
           "aaxis": {
            "gridcolor": "white",
            "linecolor": "white",
            "ticks": ""
           },
           "baxis": {
            "gridcolor": "white",
            "linecolor": "white",
            "ticks": ""
           },
           "bgcolor": "#E5ECF6",
           "caxis": {
            "gridcolor": "white",
            "linecolor": "white",
            "ticks": ""
           }
          },
          "title": {
           "x": 0.05
          },
          "xaxis": {
           "automargin": true,
           "gridcolor": "white",
           "linecolor": "white",
           "ticks": "",
           "title": {
            "standoff": 15
           },
           "zerolinecolor": "white",
           "zerolinewidth": 2
          },
          "yaxis": {
           "automargin": true,
           "gridcolor": "white",
           "linecolor": "white",
           "ticks": "",
           "title": {
            "standoff": 15
           },
           "zerolinecolor": "white",
           "zerolinewidth": 2
          }
         }
        },
        "xaxis": {
         "anchor": "y",
         "domain": [
          0,
          1
         ],
         "title": {
          "text": "x"
         }
        },
        "yaxis": {
         "anchor": "x",
         "domain": [
          0,
          1
         ],
         "title": {
          "text": "y"
         }
        }
       }
      }
     },
     "metadata": {},
     "output_type": "display_data"
    },
    {
     "data": {
      "application/vnd.plotly.v1+json": {
       "config": {
        "plotlyServerURL": "https://plot.ly"
       },
       "data": [
        {
         "domain": {
          "x": [
           0,
           1
          ],
          "y": [
           0,
           1
          ]
         },
         "hovertemplate": "label=%{label}<br>value=%{value}<extra></extra>",
         "labels": [
          "Others",
          "Claims",
          "IMTC",
          "HR Queries",
          "Manage Dependents"
         ],
         "legendgroup": "",
         "name": "",
         "showlegend": true,
         "type": "pie",
         "values": [
          14082,
          904,
          678,
          266,
          148
         ]
        }
       ],
       "layout": {
        "legend": {
         "tracegroupgap": 0
        },
        "margin": {
         "t": 60
        },
        "template": {
         "data": {
          "bar": [
           {
            "error_x": {
             "color": "#2a3f5f"
            },
            "error_y": {
             "color": "#2a3f5f"
            },
            "marker": {
             "line": {
              "color": "#E5ECF6",
              "width": 0.5
             },
             "pattern": {
              "fillmode": "overlay",
              "size": 10,
              "solidity": 0.2
             }
            },
            "type": "bar"
           }
          ],
          "barpolar": [
           {
            "marker": {
             "line": {
              "color": "#E5ECF6",
              "width": 0.5
             },
             "pattern": {
              "fillmode": "overlay",
              "size": 10,
              "solidity": 0.2
             }
            },
            "type": "barpolar"
           }
          ],
          "carpet": [
           {
            "aaxis": {
             "endlinecolor": "#2a3f5f",
             "gridcolor": "white",
             "linecolor": "white",
             "minorgridcolor": "white",
             "startlinecolor": "#2a3f5f"
            },
            "baxis": {
             "endlinecolor": "#2a3f5f",
             "gridcolor": "white",
             "linecolor": "white",
             "minorgridcolor": "white",
             "startlinecolor": "#2a3f5f"
            },
            "type": "carpet"
           }
          ],
          "choropleth": [
           {
            "colorbar": {
             "outlinewidth": 0,
             "ticks": ""
            },
            "type": "choropleth"
           }
          ],
          "contour": [
           {
            "colorbar": {
             "outlinewidth": 0,
             "ticks": ""
            },
            "colorscale": [
             [
              0,
              "#0d0887"
             ],
             [
              0.1111111111111111,
              "#46039f"
             ],
             [
              0.2222222222222222,
              "#7201a8"
             ],
             [
              0.3333333333333333,
              "#9c179e"
             ],
             [
              0.4444444444444444,
              "#bd3786"
             ],
             [
              0.5555555555555556,
              "#d8576b"
             ],
             [
              0.6666666666666666,
              "#ed7953"
             ],
             [
              0.7777777777777778,
              "#fb9f3a"
             ],
             [
              0.8888888888888888,
              "#fdca26"
             ],
             [
              1,
              "#f0f921"
             ]
            ],
            "type": "contour"
           }
          ],
          "contourcarpet": [
           {
            "colorbar": {
             "outlinewidth": 0,
             "ticks": ""
            },
            "type": "contourcarpet"
           }
          ],
          "heatmap": [
           {
            "colorbar": {
             "outlinewidth": 0,
             "ticks": ""
            },
            "colorscale": [
             [
              0,
              "#0d0887"
             ],
             [
              0.1111111111111111,
              "#46039f"
             ],
             [
              0.2222222222222222,
              "#7201a8"
             ],
             [
              0.3333333333333333,
              "#9c179e"
             ],
             [
              0.4444444444444444,
              "#bd3786"
             ],
             [
              0.5555555555555556,
              "#d8576b"
             ],
             [
              0.6666666666666666,
              "#ed7953"
             ],
             [
              0.7777777777777778,
              "#fb9f3a"
             ],
             [
              0.8888888888888888,
              "#fdca26"
             ],
             [
              1,
              "#f0f921"
             ]
            ],
            "type": "heatmap"
           }
          ],
          "heatmapgl": [
           {
            "colorbar": {
             "outlinewidth": 0,
             "ticks": ""
            },
            "colorscale": [
             [
              0,
              "#0d0887"
             ],
             [
              0.1111111111111111,
              "#46039f"
             ],
             [
              0.2222222222222222,
              "#7201a8"
             ],
             [
              0.3333333333333333,
              "#9c179e"
             ],
             [
              0.4444444444444444,
              "#bd3786"
             ],
             [
              0.5555555555555556,
              "#d8576b"
             ],
             [
              0.6666666666666666,
              "#ed7953"
             ],
             [
              0.7777777777777778,
              "#fb9f3a"
             ],
             [
              0.8888888888888888,
              "#fdca26"
             ],
             [
              1,
              "#f0f921"
             ]
            ],
            "type": "heatmapgl"
           }
          ],
          "histogram": [
           {
            "marker": {
             "pattern": {
              "fillmode": "overlay",
              "size": 10,
              "solidity": 0.2
             }
            },
            "type": "histogram"
           }
          ],
          "histogram2d": [
           {
            "colorbar": {
             "outlinewidth": 0,
             "ticks": ""
            },
            "colorscale": [
             [
              0,
              "#0d0887"
             ],
             [
              0.1111111111111111,
              "#46039f"
             ],
             [
              0.2222222222222222,
              "#7201a8"
             ],
             [
              0.3333333333333333,
              "#9c179e"
             ],
             [
              0.4444444444444444,
              "#bd3786"
             ],
             [
              0.5555555555555556,
              "#d8576b"
             ],
             [
              0.6666666666666666,
              "#ed7953"
             ],
             [
              0.7777777777777778,
              "#fb9f3a"
             ],
             [
              0.8888888888888888,
              "#fdca26"
             ],
             [
              1,
              "#f0f921"
             ]
            ],
            "type": "histogram2d"
           }
          ],
          "histogram2dcontour": [
           {
            "colorbar": {
             "outlinewidth": 0,
             "ticks": ""
            },
            "colorscale": [
             [
              0,
              "#0d0887"
             ],
             [
              0.1111111111111111,
              "#46039f"
             ],
             [
              0.2222222222222222,
              "#7201a8"
             ],
             [
              0.3333333333333333,
              "#9c179e"
             ],
             [
              0.4444444444444444,
              "#bd3786"
             ],
             [
              0.5555555555555556,
              "#d8576b"
             ],
             [
              0.6666666666666666,
              "#ed7953"
             ],
             [
              0.7777777777777778,
              "#fb9f3a"
             ],
             [
              0.8888888888888888,
              "#fdca26"
             ],
             [
              1,
              "#f0f921"
             ]
            ],
            "type": "histogram2dcontour"
           }
          ],
          "mesh3d": [
           {
            "colorbar": {
             "outlinewidth": 0,
             "ticks": ""
            },
            "type": "mesh3d"
           }
          ],
          "parcoords": [
           {
            "line": {
             "colorbar": {
              "outlinewidth": 0,
              "ticks": ""
             }
            },
            "type": "parcoords"
           }
          ],
          "pie": [
           {
            "automargin": true,
            "type": "pie"
           }
          ],
          "scatter": [
           {
            "fillpattern": {
             "fillmode": "overlay",
             "size": 10,
             "solidity": 0.2
            },
            "type": "scatter"
           }
          ],
          "scatter3d": [
           {
            "line": {
             "colorbar": {
              "outlinewidth": 0,
              "ticks": ""
             }
            },
            "marker": {
             "colorbar": {
              "outlinewidth": 0,
              "ticks": ""
             }
            },
            "type": "scatter3d"
           }
          ],
          "scattercarpet": [
           {
            "marker": {
             "colorbar": {
              "outlinewidth": 0,
              "ticks": ""
             }
            },
            "type": "scattercarpet"
           }
          ],
          "scattergeo": [
           {
            "marker": {
             "colorbar": {
              "outlinewidth": 0,
              "ticks": ""
             }
            },
            "type": "scattergeo"
           }
          ],
          "scattergl": [
           {
            "marker": {
             "colorbar": {
              "outlinewidth": 0,
              "ticks": ""
             }
            },
            "type": "scattergl"
           }
          ],
          "scattermapbox": [
           {
            "marker": {
             "colorbar": {
              "outlinewidth": 0,
              "ticks": ""
             }
            },
            "type": "scattermapbox"
           }
          ],
          "scatterpolar": [
           {
            "marker": {
             "colorbar": {
              "outlinewidth": 0,
              "ticks": ""
             }
            },
            "type": "scatterpolar"
           }
          ],
          "scatterpolargl": [
           {
            "marker": {
             "colorbar": {
              "outlinewidth": 0,
              "ticks": ""
             }
            },
            "type": "scatterpolargl"
           }
          ],
          "scatterternary": [
           {
            "marker": {
             "colorbar": {
              "outlinewidth": 0,
              "ticks": ""
             }
            },
            "type": "scatterternary"
           }
          ],
          "surface": [
           {
            "colorbar": {
             "outlinewidth": 0,
             "ticks": ""
            },
            "colorscale": [
             [
              0,
              "#0d0887"
             ],
             [
              0.1111111111111111,
              "#46039f"
             ],
             [
              0.2222222222222222,
              "#7201a8"
             ],
             [
              0.3333333333333333,
              "#9c179e"
             ],
             [
              0.4444444444444444,
              "#bd3786"
             ],
             [
              0.5555555555555556,
              "#d8576b"
             ],
             [
              0.6666666666666666,
              "#ed7953"
             ],
             [
              0.7777777777777778,
              "#fb9f3a"
             ],
             [
              0.8888888888888888,
              "#fdca26"
             ],
             [
              1,
              "#f0f921"
             ]
            ],
            "type": "surface"
           }
          ],
          "table": [
           {
            "cells": {
             "fill": {
              "color": "#EBF0F8"
             },
             "line": {
              "color": "white"
             }
            },
            "header": {
             "fill": {
              "color": "#C8D4E3"
             },
             "line": {
              "color": "white"
             }
            },
            "type": "table"
           }
          ]
         },
         "layout": {
          "annotationdefaults": {
           "arrowcolor": "#2a3f5f",
           "arrowhead": 0,
           "arrowwidth": 1
          },
          "autotypenumbers": "strict",
          "coloraxis": {
           "colorbar": {
            "outlinewidth": 0,
            "ticks": ""
           }
          },
          "colorscale": {
           "diverging": [
            [
             0,
             "#8e0152"
            ],
            [
             0.1,
             "#c51b7d"
            ],
            [
             0.2,
             "#de77ae"
            ],
            [
             0.3,
             "#f1b6da"
            ],
            [
             0.4,
             "#fde0ef"
            ],
            [
             0.5,
             "#f7f7f7"
            ],
            [
             0.6,
             "#e6f5d0"
            ],
            [
             0.7,
             "#b8e186"
            ],
            [
             0.8,
             "#7fbc41"
            ],
            [
             0.9,
             "#4d9221"
            ],
            [
             1,
             "#276419"
            ]
           ],
           "sequential": [
            [
             0,
             "#0d0887"
            ],
            [
             0.1111111111111111,
             "#46039f"
            ],
            [
             0.2222222222222222,
             "#7201a8"
            ],
            [
             0.3333333333333333,
             "#9c179e"
            ],
            [
             0.4444444444444444,
             "#bd3786"
            ],
            [
             0.5555555555555556,
             "#d8576b"
            ],
            [
             0.6666666666666666,
             "#ed7953"
            ],
            [
             0.7777777777777778,
             "#fb9f3a"
            ],
            [
             0.8888888888888888,
             "#fdca26"
            ],
            [
             1,
             "#f0f921"
            ]
           ],
           "sequentialminus": [
            [
             0,
             "#0d0887"
            ],
            [
             0.1111111111111111,
             "#46039f"
            ],
            [
             0.2222222222222222,
             "#7201a8"
            ],
            [
             0.3333333333333333,
             "#9c179e"
            ],
            [
             0.4444444444444444,
             "#bd3786"
            ],
            [
             0.5555555555555556,
             "#d8576b"
            ],
            [
             0.6666666666666666,
             "#ed7953"
            ],
            [
             0.7777777777777778,
             "#fb9f3a"
            ],
            [
             0.8888888888888888,
             "#fdca26"
            ],
            [
             1,
             "#f0f921"
            ]
           ]
          },
          "colorway": [
           "#636efa",
           "#EF553B",
           "#00cc96",
           "#ab63fa",
           "#FFA15A",
           "#19d3f3",
           "#FF6692",
           "#B6E880",
           "#FF97FF",
           "#FECB52"
          ],
          "font": {
           "color": "#2a3f5f"
          },
          "geo": {
           "bgcolor": "white",
           "lakecolor": "white",
           "landcolor": "#E5ECF6",
           "showlakes": true,
           "showland": true,
           "subunitcolor": "white"
          },
          "hoverlabel": {
           "align": "left"
          },
          "hovermode": "closest",
          "mapbox": {
           "style": "light"
          },
          "paper_bgcolor": "white",
          "plot_bgcolor": "#E5ECF6",
          "polar": {
           "angularaxis": {
            "gridcolor": "white",
            "linecolor": "white",
            "ticks": ""
           },
           "bgcolor": "#E5ECF6",
           "radialaxis": {
            "gridcolor": "white",
            "linecolor": "white",
            "ticks": ""
           }
          },
          "scene": {
           "xaxis": {
            "backgroundcolor": "#E5ECF6",
            "gridcolor": "white",
            "gridwidth": 2,
            "linecolor": "white",
            "showbackground": true,
            "ticks": "",
            "zerolinecolor": "white"
           },
           "yaxis": {
            "backgroundcolor": "#E5ECF6",
            "gridcolor": "white",
            "gridwidth": 2,
            "linecolor": "white",
            "showbackground": true,
            "ticks": "",
            "zerolinecolor": "white"
           },
           "zaxis": {
            "backgroundcolor": "#E5ECF6",
            "gridcolor": "white",
            "gridwidth": 2,
            "linecolor": "white",
            "showbackground": true,
            "ticks": "",
            "zerolinecolor": "white"
           }
          },
          "shapedefaults": {
           "line": {
            "color": "#2a3f5f"
           }
          },
          "ternary": {
           "aaxis": {
            "gridcolor": "white",
            "linecolor": "white",
            "ticks": ""
           },
           "baxis": {
            "gridcolor": "white",
            "linecolor": "white",
            "ticks": ""
           },
           "bgcolor": "#E5ECF6",
           "caxis": {
            "gridcolor": "white",
            "linecolor": "white",
            "ticks": ""
           }
          },
          "title": {
           "x": 0.05
          },
          "xaxis": {
           "automargin": true,
           "gridcolor": "white",
           "linecolor": "white",
           "ticks": "",
           "title": {
            "standoff": 15
           },
           "zerolinecolor": "white",
           "zerolinewidth": 2
          },
          "yaxis": {
           "automargin": true,
           "gridcolor": "white",
           "linecolor": "white",
           "ticks": "",
           "title": {
            "standoff": 15
           },
           "zerolinecolor": "white",
           "zerolinewidth": 2
          }
         }
        }
       }
      }
     },
     "metadata": {},
     "output_type": "display_data"
    }
   ],
   "source": [
    "# Import Plotly \n",
    "import plotly.express as px\n",
    "\n",
    "# Create sample categorical data\n",
    "categories = ['Others', 'Claims', 'IMTC', 'HR Queries', 'Manage Dependents']\n",
    "\n",
    "# Create sample numeric data\n",
    "values = [14082, 904, 678, 266, 148]\n",
    "\n",
    "# Create bar chart for categorical data\n",
    "fig = px.bar(x=categories, y=values)\n",
    "fig.show()\n",
    "\n",
    "# Create pie chart for numeric data\n",
    "fig = px.pie(values=values, names=categories) \n",
    "fig.show()"
   ]
  },
  {
   "cell_type": "code",
   "execution_count": 73,
   "metadata": {},
   "outputs": [
    {
     "data": {
      "application/vnd.plotly.v1+json": {
       "config": {
        "plotlyServerURL": "https://plot.ly"
       },
       "data": [
        {
         "hovertemplate": "x=%{x}<br>y=%{y}<extra></extra>",
         "legendgroup": "",
         "line": {
          "color": "#636efa",
          "dash": "solid"
         },
         "marker": {
          "symbol": "circle"
         },
         "mode": "lines",
         "name": "",
         "orientation": "v",
         "showlegend": false,
         "type": "scatter",
         "x": [
          0,
          1,
          2,
          3,
          4,
          5,
          6,
          7,
          8,
          9,
          10
         ],
         "xaxis": "x",
         "y": [
          14082,
          904,
          678,
          266,
          148,
          131,
          75,
          74,
          70,
          28,
          20
         ],
         "yaxis": "y"
        }
       ],
       "layout": {
        "legend": {
         "tracegroupgap": 0
        },
        "margin": {
         "t": 60
        },
        "template": {
         "data": {
          "bar": [
           {
            "error_x": {
             "color": "#2a3f5f"
            },
            "error_y": {
             "color": "#2a3f5f"
            },
            "marker": {
             "line": {
              "color": "#E5ECF6",
              "width": 0.5
             },
             "pattern": {
              "fillmode": "overlay",
              "size": 10,
              "solidity": 0.2
             }
            },
            "type": "bar"
           }
          ],
          "barpolar": [
           {
            "marker": {
             "line": {
              "color": "#E5ECF6",
              "width": 0.5
             },
             "pattern": {
              "fillmode": "overlay",
              "size": 10,
              "solidity": 0.2
             }
            },
            "type": "barpolar"
           }
          ],
          "carpet": [
           {
            "aaxis": {
             "endlinecolor": "#2a3f5f",
             "gridcolor": "white",
             "linecolor": "white",
             "minorgridcolor": "white",
             "startlinecolor": "#2a3f5f"
            },
            "baxis": {
             "endlinecolor": "#2a3f5f",
             "gridcolor": "white",
             "linecolor": "white",
             "minorgridcolor": "white",
             "startlinecolor": "#2a3f5f"
            },
            "type": "carpet"
           }
          ],
          "choropleth": [
           {
            "colorbar": {
             "outlinewidth": 0,
             "ticks": ""
            },
            "type": "choropleth"
           }
          ],
          "contour": [
           {
            "colorbar": {
             "outlinewidth": 0,
             "ticks": ""
            },
            "colorscale": [
             [
              0,
              "#0d0887"
             ],
             [
              0.1111111111111111,
              "#46039f"
             ],
             [
              0.2222222222222222,
              "#7201a8"
             ],
             [
              0.3333333333333333,
              "#9c179e"
             ],
             [
              0.4444444444444444,
              "#bd3786"
             ],
             [
              0.5555555555555556,
              "#d8576b"
             ],
             [
              0.6666666666666666,
              "#ed7953"
             ],
             [
              0.7777777777777778,
              "#fb9f3a"
             ],
             [
              0.8888888888888888,
              "#fdca26"
             ],
             [
              1,
              "#f0f921"
             ]
            ],
            "type": "contour"
           }
          ],
          "contourcarpet": [
           {
            "colorbar": {
             "outlinewidth": 0,
             "ticks": ""
            },
            "type": "contourcarpet"
           }
          ],
          "heatmap": [
           {
            "colorbar": {
             "outlinewidth": 0,
             "ticks": ""
            },
            "colorscale": [
             [
              0,
              "#0d0887"
             ],
             [
              0.1111111111111111,
              "#46039f"
             ],
             [
              0.2222222222222222,
              "#7201a8"
             ],
             [
              0.3333333333333333,
              "#9c179e"
             ],
             [
              0.4444444444444444,
              "#bd3786"
             ],
             [
              0.5555555555555556,
              "#d8576b"
             ],
             [
              0.6666666666666666,
              "#ed7953"
             ],
             [
              0.7777777777777778,
              "#fb9f3a"
             ],
             [
              0.8888888888888888,
              "#fdca26"
             ],
             [
              1,
              "#f0f921"
             ]
            ],
            "type": "heatmap"
           }
          ],
          "heatmapgl": [
           {
            "colorbar": {
             "outlinewidth": 0,
             "ticks": ""
            },
            "colorscale": [
             [
              0,
              "#0d0887"
             ],
             [
              0.1111111111111111,
              "#46039f"
             ],
             [
              0.2222222222222222,
              "#7201a8"
             ],
             [
              0.3333333333333333,
              "#9c179e"
             ],
             [
              0.4444444444444444,
              "#bd3786"
             ],
             [
              0.5555555555555556,
              "#d8576b"
             ],
             [
              0.6666666666666666,
              "#ed7953"
             ],
             [
              0.7777777777777778,
              "#fb9f3a"
             ],
             [
              0.8888888888888888,
              "#fdca26"
             ],
             [
              1,
              "#f0f921"
             ]
            ],
            "type": "heatmapgl"
           }
          ],
          "histogram": [
           {
            "marker": {
             "pattern": {
              "fillmode": "overlay",
              "size": 10,
              "solidity": 0.2
             }
            },
            "type": "histogram"
           }
          ],
          "histogram2d": [
           {
            "colorbar": {
             "outlinewidth": 0,
             "ticks": ""
            },
            "colorscale": [
             [
              0,
              "#0d0887"
             ],
             [
              0.1111111111111111,
              "#46039f"
             ],
             [
              0.2222222222222222,
              "#7201a8"
             ],
             [
              0.3333333333333333,
              "#9c179e"
             ],
             [
              0.4444444444444444,
              "#bd3786"
             ],
             [
              0.5555555555555556,
              "#d8576b"
             ],
             [
              0.6666666666666666,
              "#ed7953"
             ],
             [
              0.7777777777777778,
              "#fb9f3a"
             ],
             [
              0.8888888888888888,
              "#fdca26"
             ],
             [
              1,
              "#f0f921"
             ]
            ],
            "type": "histogram2d"
           }
          ],
          "histogram2dcontour": [
           {
            "colorbar": {
             "outlinewidth": 0,
             "ticks": ""
            },
            "colorscale": [
             [
              0,
              "#0d0887"
             ],
             [
              0.1111111111111111,
              "#46039f"
             ],
             [
              0.2222222222222222,
              "#7201a8"
             ],
             [
              0.3333333333333333,
              "#9c179e"
             ],
             [
              0.4444444444444444,
              "#bd3786"
             ],
             [
              0.5555555555555556,
              "#d8576b"
             ],
             [
              0.6666666666666666,
              "#ed7953"
             ],
             [
              0.7777777777777778,
              "#fb9f3a"
             ],
             [
              0.8888888888888888,
              "#fdca26"
             ],
             [
              1,
              "#f0f921"
             ]
            ],
            "type": "histogram2dcontour"
           }
          ],
          "mesh3d": [
           {
            "colorbar": {
             "outlinewidth": 0,
             "ticks": ""
            },
            "type": "mesh3d"
           }
          ],
          "parcoords": [
           {
            "line": {
             "colorbar": {
              "outlinewidth": 0,
              "ticks": ""
             }
            },
            "type": "parcoords"
           }
          ],
          "pie": [
           {
            "automargin": true,
            "type": "pie"
           }
          ],
          "scatter": [
           {
            "fillpattern": {
             "fillmode": "overlay",
             "size": 10,
             "solidity": 0.2
            },
            "type": "scatter"
           }
          ],
          "scatter3d": [
           {
            "line": {
             "colorbar": {
              "outlinewidth": 0,
              "ticks": ""
             }
            },
            "marker": {
             "colorbar": {
              "outlinewidth": 0,
              "ticks": ""
             }
            },
            "type": "scatter3d"
           }
          ],
          "scattercarpet": [
           {
            "marker": {
             "colorbar": {
              "outlinewidth": 0,
              "ticks": ""
             }
            },
            "type": "scattercarpet"
           }
          ],
          "scattergeo": [
           {
            "marker": {
             "colorbar": {
              "outlinewidth": 0,
              "ticks": ""
             }
            },
            "type": "scattergeo"
           }
          ],
          "scattergl": [
           {
            "marker": {
             "colorbar": {
              "outlinewidth": 0,
              "ticks": ""
             }
            },
            "type": "scattergl"
           }
          ],
          "scattermapbox": [
           {
            "marker": {
             "colorbar": {
              "outlinewidth": 0,
              "ticks": ""
             }
            },
            "type": "scattermapbox"
           }
          ],
          "scatterpolar": [
           {
            "marker": {
             "colorbar": {
              "outlinewidth": 0,
              "ticks": ""
             }
            },
            "type": "scatterpolar"
           }
          ],
          "scatterpolargl": [
           {
            "marker": {
             "colorbar": {
              "outlinewidth": 0,
              "ticks": ""
             }
            },
            "type": "scatterpolargl"
           }
          ],
          "scatterternary": [
           {
            "marker": {
             "colorbar": {
              "outlinewidth": 0,
              "ticks": ""
             }
            },
            "type": "scatterternary"
           }
          ],
          "surface": [
           {
            "colorbar": {
             "outlinewidth": 0,
             "ticks": ""
            },
            "colorscale": [
             [
              0,
              "#0d0887"
             ],
             [
              0.1111111111111111,
              "#46039f"
             ],
             [
              0.2222222222222222,
              "#7201a8"
             ],
             [
              0.3333333333333333,
              "#9c179e"
             ],
             [
              0.4444444444444444,
              "#bd3786"
             ],
             [
              0.5555555555555556,
              "#d8576b"
             ],
             [
              0.6666666666666666,
              "#ed7953"
             ],
             [
              0.7777777777777778,
              "#fb9f3a"
             ],
             [
              0.8888888888888888,
              "#fdca26"
             ],
             [
              1,
              "#f0f921"
             ]
            ],
            "type": "surface"
           }
          ],
          "table": [
           {
            "cells": {
             "fill": {
              "color": "#EBF0F8"
             },
             "line": {
              "color": "white"
             }
            },
            "header": {
             "fill": {
              "color": "#C8D4E3"
             },
             "line": {
              "color": "white"
             }
            },
            "type": "table"
           }
          ]
         },
         "layout": {
          "annotationdefaults": {
           "arrowcolor": "#2a3f5f",
           "arrowhead": 0,
           "arrowwidth": 1
          },
          "autotypenumbers": "strict",
          "coloraxis": {
           "colorbar": {
            "outlinewidth": 0,
            "ticks": ""
           }
          },
          "colorscale": {
           "diverging": [
            [
             0,
             "#8e0152"
            ],
            [
             0.1,
             "#c51b7d"
            ],
            [
             0.2,
             "#de77ae"
            ],
            [
             0.3,
             "#f1b6da"
            ],
            [
             0.4,
             "#fde0ef"
            ],
            [
             0.5,
             "#f7f7f7"
            ],
            [
             0.6,
             "#e6f5d0"
            ],
            [
             0.7,
             "#b8e186"
            ],
            [
             0.8,
             "#7fbc41"
            ],
            [
             0.9,
             "#4d9221"
            ],
            [
             1,
             "#276419"
            ]
           ],
           "sequential": [
            [
             0,
             "#0d0887"
            ],
            [
             0.1111111111111111,
             "#46039f"
            ],
            [
             0.2222222222222222,
             "#7201a8"
            ],
            [
             0.3333333333333333,
             "#9c179e"
            ],
            [
             0.4444444444444444,
             "#bd3786"
            ],
            [
             0.5555555555555556,
             "#d8576b"
            ],
            [
             0.6666666666666666,
             "#ed7953"
            ],
            [
             0.7777777777777778,
             "#fb9f3a"
            ],
            [
             0.8888888888888888,
             "#fdca26"
            ],
            [
             1,
             "#f0f921"
            ]
           ],
           "sequentialminus": [
            [
             0,
             "#0d0887"
            ],
            [
             0.1111111111111111,
             "#46039f"
            ],
            [
             0.2222222222222222,
             "#7201a8"
            ],
            [
             0.3333333333333333,
             "#9c179e"
            ],
            [
             0.4444444444444444,
             "#bd3786"
            ],
            [
             0.5555555555555556,
             "#d8576b"
            ],
            [
             0.6666666666666666,
             "#ed7953"
            ],
            [
             0.7777777777777778,
             "#fb9f3a"
            ],
            [
             0.8888888888888888,
             "#fdca26"
            ],
            [
             1,
             "#f0f921"
            ]
           ]
          },
          "colorway": [
           "#636efa",
           "#EF553B",
           "#00cc96",
           "#ab63fa",
           "#FFA15A",
           "#19d3f3",
           "#FF6692",
           "#B6E880",
           "#FF97FF",
           "#FECB52"
          ],
          "font": {
           "color": "#2a3f5f"
          },
          "geo": {
           "bgcolor": "white",
           "lakecolor": "white",
           "landcolor": "#E5ECF6",
           "showlakes": true,
           "showland": true,
           "subunitcolor": "white"
          },
          "hoverlabel": {
           "align": "left"
          },
          "hovermode": "closest",
          "mapbox": {
           "style": "light"
          },
          "paper_bgcolor": "white",
          "plot_bgcolor": "#E5ECF6",
          "polar": {
           "angularaxis": {
            "gridcolor": "white",
            "linecolor": "white",
            "ticks": ""
           },
           "bgcolor": "#E5ECF6",
           "radialaxis": {
            "gridcolor": "white",
            "linecolor": "white",
            "ticks": ""
           }
          },
          "scene": {
           "xaxis": {
            "backgroundcolor": "#E5ECF6",
            "gridcolor": "white",
            "gridwidth": 2,
            "linecolor": "white",
            "showbackground": true,
            "ticks": "",
            "zerolinecolor": "white"
           },
           "yaxis": {
            "backgroundcolor": "#E5ECF6",
            "gridcolor": "white",
            "gridwidth": 2,
            "linecolor": "white",
            "showbackground": true,
            "ticks": "",
            "zerolinecolor": "white"
           },
           "zaxis": {
            "backgroundcolor": "#E5ECF6",
            "gridcolor": "white",
            "gridwidth": 2,
            "linecolor": "white",
            "showbackground": true,
            "ticks": "",
            "zerolinecolor": "white"
           }
          },
          "shapedefaults": {
           "line": {
            "color": "#2a3f5f"
           }
          },
          "ternary": {
           "aaxis": {
            "gridcolor": "white",
            "linecolor": "white",
            "ticks": ""
           },
           "baxis": {
            "gridcolor": "white",
            "linecolor": "white",
            "ticks": ""
           },
           "bgcolor": "#E5ECF6",
           "caxis": {
            "gridcolor": "white",
            "linecolor": "white",
            "ticks": ""
           }
          },
          "title": {
           "x": 0.05
          },
          "xaxis": {
           "automargin": true,
           "gridcolor": "white",
           "linecolor": "white",
           "ticks": "",
           "title": {
            "standoff": 15
           },
           "zerolinecolor": "white",
           "zerolinewidth": 2
          },
          "yaxis": {
           "automargin": true,
           "gridcolor": "white",
           "linecolor": "white",
           "ticks": "",
           "title": {
            "standoff": 15
           },
           "zerolinecolor": "white",
           "zerolinewidth": 2
          }
         }
        },
        "title": {
         "text": "plot for numeric data"
        },
        "xaxis": {
         "anchor": "y",
         "domain": [
          0,
          1
         ],
         "title": {
          "text": "Ticket Type"
         }
        },
        "yaxis": {
         "anchor": "x",
         "domain": [
          0,
          1
         ],
         "title": {
          "text": "Count"
         }
        }
       }
      }
     },
     "metadata": {},
     "output_type": "display_data"
    }
   ],
   "source": [
    "import plotly.express as px\n",
    "\n",
    "# Sample numeric data \n",
    "values = [14082, 904, 678, 266, 148, 131, 75, 74, 70, 28, 20]\n",
    "\n",
    "# Create line chart \n",
    "fig = px.line(y=values)\n",
    "\n",
    "# Customize chart\n",
    "fig.update_layout(\n",
    "    title='plot for numeric data',\n",
    "    xaxis_title='Ticket Type', \n",
    "    yaxis_title='Count'\n",
    ")\n",
    "\n",
    "fig.show()"
   ]
  },
  {
   "cell_type": "code",
   "execution_count": null,
   "metadata": {},
   "outputs": [],
   "source": []
  }
 ],
 "metadata": {
  "kernelspec": {
   "display_name": "Python 3",
   "language": "python",
   "name": "python3"
  },
  "language_info": {
   "codemirror_mode": {
    "name": "ipython",
    "version": 3
   },
   "file_extension": ".py",
   "mimetype": "text/x-python",
   "name": "python",
   "nbconvert_exporter": "python",
   "pygments_lexer": "ipython3",
   "version": "3.11.8"
  }
 },
 "nbformat": 4,
 "nbformat_minor": 2
}
